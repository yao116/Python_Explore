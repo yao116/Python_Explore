{
 "cells": [
  {
   "cell_type": "markdown",
   "metadata": {},
   "source": [
    "Learning Source: https://www.youtube.com/watch?v=iwFDa56tBNA"
   ]
  },
  {
   "cell_type": "code",
   "execution_count": 41,
   "metadata": {},
   "outputs": [
    {
     "name": "stdout",
     "output_type": "stream",
     "text": [
      "Collecting package metadata (current_repodata.json): ...working... done\n",
      "Solving environment: ...working... done\n",
      "\n",
      "## Package Plan ##\n",
      "\n",
      "  environment location: C:\\Users\\admin\\anaconda3\\envs\\k0py37\n",
      "\n",
      "  added / updated specs:\n",
      "    - pillow\n",
      "\n",
      "\n",
      "The following packages will be downloaded:\n",
      "\n",
      "    package                    |            build\n",
      "    ---------------------------|-----------------\n",
      "    certifi-2020.12.5          |   py37haa95532_0         141 KB\n",
      "    ------------------------------------------------------------\n",
      "                                           Total:         141 KB\n",
      "\n",
      "The following packages will be UPDATED:\n",
      "\n",
      "  certifi                          2020.11.8-py37haa95532_0 --> 2020.12.5-py37haa95532_0\n",
      "\n",
      "\n",
      "\n",
      "Downloading and Extracting Packages\n",
      "\n",
      "certifi-2020.12.5    | 141 KB    |            |   0% \n",
      "certifi-2020.12.5    | 141 KB    | ########## | 100% \n",
      "certifi-2020.12.5    | 141 KB    | ########## | 100% \n",
      "Preparing transaction: ...working... done\n",
      "Verifying transaction: ...working... done\n",
      "Executing transaction: ...working... done\n"
     ]
    }
   ],
   "source": [
    "# about downloading package https://jakevdp.github.io/blog/2017/12/05/installing-python-packages-from-jupyter/\n",
    "# python -m pip install <package>\n",
    "import sys\n",
    "#!conda install --yes --prefix {sys.prefix} openpyxl\n",
    "!conda install --yes --prefix {sys.prefix} pillow"
   ]
  },
  {
   "cell_type": "code",
   "execution_count": 3,
   "metadata": {},
   "outputs": [],
   "source": [
    "from openpyxl import Workbook, load_workbook\n",
    "import random\n",
    "#k0py37"
   ]
  },
  {
   "cell_type": "markdown",
   "metadata": {},
   "source": [
    "###### Create files"
   ]
  },
  {
   "cell_type": "code",
   "execution_count": 8,
   "metadata": {
    "scrolled": true
   },
   "outputs": [
    {
     "name": "stdout",
     "output_type": "stream",
     "text": [
      "Default sheet name:  Sheet\n"
     ]
    }
   ],
   "source": [
    "# Workbook is the excel file, Worksheet is a sheet in the excel file\n",
    "\n",
    "# Create an Excel file, will by default create a sheet called \"Sheet\"\n",
    "fileName = \"happiness.xlsx\"\n",
    "wb = Workbook()\n",
    "\n",
    "ws = wb.active\n",
    "print(\"Default sheet name: \", ws.title)"
   ]
  },
  {
   "cell_type": "markdown",
   "metadata": {},
   "source": [
    "###### Sheet"
   ]
  },
  {
   "cell_type": "code",
   "execution_count": 10,
   "metadata": {},
   "outputs": [],
   "source": [
    "# Change sheet name\n",
    "ws.title = \"Sheet1\"\n",
    "\n",
    "# Change tab color\n",
    "ws.sheet_properties.tabColor = \"FF0101\""
   ]
  },
  {
   "cell_type": "code",
   "execution_count": 11,
   "metadata": {},
   "outputs": [],
   "source": [
    "# Creat new sheet\n",
    "ws1 = wb.create_sheet(\"Mysheet1\") # insert at the end\n",
    "ws2 = wb.create_sheet(\"Mysheet2\", 0) # insert at first\n",
    "ws3 = wb.create_sheet(\"Mysheet3\", -1) # insert before the last sheet"
   ]
  },
  {
   "cell_type": "code",
   "execution_count": 15,
   "metadata": {},
   "outputs": [
    {
     "name": "stdout",
     "output_type": "stream",
     "text": [
      "sheet： Mysheet2\n",
      "sheet： Sheet11\n",
      "sheet： Mysheet3\n",
      "sheet： Mysheet1\n"
     ]
    }
   ],
   "source": [
    "# Iterate to check what sheets I have so far\n",
    "for sheet in wb.sheetnames:\n",
    "    print(\"sheet：\",sheet)"
   ]
  },
  {
   "cell_type": "code",
   "execution_count": 18,
   "metadata": {},
   "outputs": [],
   "source": [
    "# Select sheet\n",
    "ws3 = wb[\"Mysheet3\"]"
   ]
  },
  {
   "cell_type": "code",
   "execution_count": 19,
   "metadata": {},
   "outputs": [],
   "source": [
    "# Change active sheet\n",
    "wb.active = wb[\"Mysheet3\"]\n",
    "ws3 = wb.active"
   ]
  },
  {
   "cell_type": "markdown",
   "metadata": {},
   "source": [
    "###### Cell"
   ]
  },
  {
   "cell_type": "code",
   "execution_count": 20,
   "metadata": {},
   "outputs": [
    {
     "name": "stdout",
     "output_type": "stream",
     "text": [
      "A1:  1\n"
     ]
    }
   ],
   "source": [
    "# Assign value to shells\n",
    "ws3[\"A1\"]=1\n",
    "cell = ws3[\"A1\"]\n",
    "print(\"A1: \",cell.value)"
   ]
  },
  {
   "cell_type": "code",
   "execution_count": 23,
   "metadata": {},
   "outputs": [
    {
     "name": "stdout",
     "output_type": "stream",
     "text": [
      "row1column1value25\n",
      "row1column2value50\n",
      "row1column3value81\n",
      "row2column1value92\n",
      "row2column2value74\n",
      "row2column3value94\n",
      "row3column1value21\n",
      "row3column2value34\n",
      "row3column3value48\n",
      "row4column1value58\n",
      "row4column2value54\n",
      "row4column3value25\n",
      "row5column1value78\n",
      "row5column2value65\n",
      "row5column3value40\n"
     ]
    }
   ],
   "source": [
    "# batch process assigning value\n",
    "cell_range = ws3[\"A1\":\"C5\"]\n",
    "for row in cell_range: # finish one row and start the second\n",
    "    for cell in row:\n",
    "        print(\"row{0}column{1}value{2}\".format(cell.row,cell.column,cell.value))\n",
    "        cell.value = random.randint(1,100)"
   ]
  },
  {
   "cell_type": "code",
   "execution_count": 24,
   "metadata": {},
   "outputs": [
    {
     "name": "stdout",
     "output_type": "stream",
     "text": [
      "row1column2value51\n",
      "row1column3value84\n",
      "row2column2value80\n",
      "row2column3value66\n"
     ]
    }
   ],
   "source": [
    "# iterate all rows first\n",
    "for row in ws3.iter_rows(min_row = 1 , min_col=2, max_row=2,max_col=3):\n",
    "    for cell in row:\n",
    "        print(\"row{0}column{1}value{2}\".format(cell.row,cell.column,cell.value))"
   ]
  },
  {
   "cell_type": "code",
   "execution_count": 27,
   "metadata": {},
   "outputs": [
    {
     "name": "stdout",
     "output_type": "stream",
     "text": [
      "row1column2value51\n",
      "row2column2value80\n",
      "row1column3value84\n",
      "row2column3value66\n"
     ]
    }
   ],
   "source": [
    "# iterate all columns first\n",
    "for col in ws3.iter_cols(min_row = 1 , min_col=2, max_row=2,max_col=3):\n",
    "    for cell in col:\n",
    "        print(\"row{0}column{1}value{2}\".format(cell.row,cell.column,cell.value))"
   ]
  },
  {
   "cell_type": "code",
   "execution_count": 28,
   "metadata": {},
   "outputs": [
    {
     "name": "stdout",
     "output_type": "stream",
     "text": [
      "(33, 51, 84)\n",
      "(24, 80, 66)\n",
      "(49, 81, 49)\n",
      "(49, 55, 61)\n",
      "(4, 84, 23)\n"
     ]
    }
   ],
   "source": [
    "# only iterate values (by row)\n",
    "for row in ws3.values:\n",
    "    print(row)"
   ]
  },
  {
   "cell_type": "markdown",
   "metadata": {},
   "source": [
    "###### save"
   ]
  },
  {
   "cell_type": "code",
   "execution_count": 30,
   "metadata": {},
   "outputs": [],
   "source": [
    "# save\n",
    "wb.save(fileName)"
   ]
  },
  {
   "cell_type": "markdown",
   "metadata": {},
   "source": [
    "###### Load existing filea"
   ]
  },
  {
   "cell_type": "code",
   "execution_count": 31,
   "metadata": {},
   "outputs": [
    {
     "name": "stdout",
     "output_type": "stream",
     "text": [
      "(33, 51, 84)\n",
      "(24, 80, 66)\n",
      "(49, 81, 49)\n",
      "(49, 55, 61)\n",
      "(4, 84, 23)\n"
     ]
    }
   ],
   "source": [
    "wb=load_workbook(fileName)\n",
    "ws=wb.active\n",
    "for row in ws.values:\n",
    "    print(row)"
   ]
  },
  {
   "cell_type": "code",
   "execution_count": 33,
   "metadata": {},
   "outputs": [],
   "source": [
    "ws = wb.create_sheet(\"Exercise\")\n",
    "cell_range = ws[\"A1\":\"D6\"]\n",
    "for row in cell_range:\n",
    "    for cell in row:\n",
    "        cell.value = random.randint(1,100)"
   ]
  },
  {
   "cell_type": "markdown",
   "metadata": {},
   "source": [
    "###### find max/min/sum value in the sheet"
   ]
  },
  {
   "cell_type": "code",
   "execution_count": 34,
   "metadata": {},
   "outputs": [],
   "source": [
    "maxValue=0\n",
    "minValue=101\n",
    "sum=0\n",
    "for row in ws.iter_rows(min_row=1, max_row=6, min_col=1, max_col=4, values_only=True):\n",
    "    for val in row:\n",
    "        if val>maxValue:\n",
    "            maxValue=val\n",
    "        if val<minValue:\n",
    "            minValue=val\n",
    "        sum+=val"
   ]
  },
  {
   "cell_type": "code",
   "execution_count": 35,
   "metadata": {},
   "outputs": [],
   "source": [
    "# save max/min/sum value\n",
    "ws[\"D7\"] = maxValue\n",
    "ws[\"D8\"] = minValue\n",
    "ws[\"D9\"] = sum\n",
    "\n",
    "wb.save(fileName)"
   ]
  },
  {
   "cell_type": "markdown",
   "metadata": {},
   "source": [
    "###### Practice"
   ]
  },
  {
   "cell_type": "code",
   "execution_count": 3,
   "metadata": {},
   "outputs": [],
   "source": [
    "from openpyxl import load_workbook\n",
    "from openpyxl.drawing.image import Image"
   ]
  },
  {
   "cell_type": "code",
   "execution_count": 5,
   "metadata": {},
   "outputs": [],
   "source": [
    "fileName = \"name.xlsx\"\n",
    "wb=load_workbook(fileName)\n",
    "ws=wb.active\n",
    "# insert line\n",
    "ws.insert_rows(6) # if insert multiple lines:ws.insert_rows(6,n)\n",
    "row6 = ws[6]\n",
    "newDatas = [\"Wendy\",\"Female\",\"1884-12-03\",26]\n",
    "for row in ws[\"A6\":\"D6\"]:\n",
    "    for index in range(len(row)):\n",
    "        row[index].value = newDatas[index]"
   ]
  },
  {
   "cell_type": "markdown",
   "metadata": {},
   "source": [
    "###### Delete"
   ]
  },
  {
   "cell_type": "code",
   "execution_count": null,
   "metadata": {},
   "outputs": [],
   "source": [
    "ws.delete_row(7,2) # delete line7&8"
   ]
  },
  {
   "cell_type": "markdown",
   "metadata": {},
   "source": [
    "###### Move secions"
   ]
  },
  {
   "cell_type": "code",
   "execution_count": null,
   "metadata": {},
   "outputs": [],
   "source": [
    "ws.move_range(\"A1:D12\",rows=4,cols=2)#down4,right2\n",
    "ws.move_range(\"A1:D12\",rows=-1,cols=-2)#up1,left2"
   ]
  },
  {
   "cell_type": "markdown",
   "metadata": {},
   "source": [
    "###### Insert Images"
   ]
  },
  {
   "cell_type": "code",
   "execution_count": 45,
   "metadata": {},
   "outputs": [],
   "source": [
    "ws1 = wb.create_sheet(\"beauty\")\n",
    "img1=Image(\"1.jpg\")\n",
    "img2=Image(\"2.jpg\")\n",
    "ws1.merge_cells(\"A1:G27\")\n",
    "ws1.merge_cells(\"I1:Q47\")\n",
    "# unmerge_cells\n",
    "\n",
    "ws1.add_image(img1,\"A1\")\n",
    "ws1.add_image(img2,\"I1\")\n",
    "\n",
    "wb.save(fileName)"
   ]
  },
  {
   "cell_type": "markdown",
   "metadata": {},
   "source": [
    "###### Practice2"
   ]
  },
  {
   "cell_type": "code",
   "execution_count": 15,
   "metadata": {},
   "outputs": [],
   "source": [
    "# delete all \"季前赛\"\n",
    "# insert a line in the front\n",
    "# add title\n",
    "# mergeA1&B1\n",
    "\n",
    "filename=\"2.xlsx\"\n",
    "wb = load_workbook(filename)\n",
    "ws=wb[\"nba\"]\n",
    "datas=[\"19-20\",\"常规赛\",113.4,48,88.3,34.9,31.6,72.9,24.3,45.7,25.4,8.6,6.6,6.8]\n",
    "titles=[\"赛季\",\"\",\"得分\",\"命中%\",\"出手\",\"三分%\",\"三分出手\",\"罚球%\",\"罚球出手\",\"篮板\",\"助攻\",\"抢断\",\"盖帽\",\"犯规\"]\n",
    "deletRows=[] #store value to be deleted  \n",
    "#delete should start from end to start,otherwise row number changes\n",
    "\n",
    "for cell in ws[\"B\"]:\n",
    "    if cell.value == \"季前赛\":\n",
    "        deletRows.append(cell.row)\n",
    "for index in range(len(deletRows)-1,-1,-1):\n",
    "    ws.delete_rows(deletRows[index])\n",
    "    \n",
    "    \n",
    "    \n",
    "ws.insert_rows(1)\n",
    "index=0\n",
    "for row in ws.iter_rows(min_row=1,max_row=1,min_col=1,max_col=14):\n",
    "    for cell in row:\n",
    "        cell.value = datas[index]\n",
    "        index+=1\n",
    "\n",
    "ws.move_range(\"A1:N4\",rows=1)\n",
    "\n",
    "\n",
    "index=0\n",
    "for row in ws.iter_rows(min_row=1,max_row=1,min_col=1,max_col=14):\n",
    "    for cell in row:\n",
    "        cell.value = titles[index]\n",
    "        index+=1\n",
    "\n",
    "ws.merge_cells(\"A1:N4\")\n",
    "\n",
    "\n",
    "\n",
    "wb.save(filename)\n"
   ]
  },
  {
   "cell_type": "markdown",
   "metadata": {},
   "source": [
    "###### Practice 3"
   ]
  },
  {
   "cell_type": "code",
   "execution_count": 8,
   "metadata": {},
   "outputs": [],
   "source": [
    "from openpyxl import load_workbook\n",
    "from openpyxl.comments import Comment\n",
    "from openpyxl.styles import Font,Alignment,PatternFill\n",
    "from copy import copy"
   ]
  },
  {
   "cell_type": "code",
   "execution_count": 9,
   "metadata": {},
   "outputs": [],
   "source": [
    "# from openpyxl.styles import PatternFill, Border, Side, Alignment, Protection, Font\n",
    "# font = Font(name='Calibri',\n",
    "#                  size=11,\n",
    "#                  bold=False,\n",
    "#                  italic=False,\n",
    "#                 vertAlign=None,\n",
    "#                 underline='none',\n",
    "#                 color='FF000000')\n",
    "# fill = PatternFill(fill_type=None,\n",
    "#                start_color='FFFFFFFF',\n",
    "#                 end_color='FF000000')\n",
    "# border = Border(left=Side(border_style=None,\n",
    "#                           color='FF000000'),\n",
    "#                 right=Side(border_style=None,\n",
    "#                            color='FF000000'),\n",
    "#                 top=Side(border_style=None,\n",
    "#                          color='FF000000'),\n",
    "#                 bottom=Side(border_style=None,\n",
    "#                             color='FF000000'),\n",
    "#                 diagonal=Side(border_style=None,\n",
    "#                               color='FF000000'),\n",
    "#                 diagonal_direction=0,\n",
    "#                  outline=Side(border_style=None,\n",
    "#                              color='FF000000'),\n",
    "#                 vertical=Side(border_style=None,\n",
    "#                               color='FF000000'),\n",
    "#                 horizontal=Side(border_style=None,\n",
    "#                                 color='FF000000')\n",
    "#                )\n",
    "# alignment=Alignment(horizontal='general',\n",
    "#                      vertical='bottom',\n",
    "#                     text_rotation=0,\n",
    "#                     wrap_text=False,\n",
    "#                      shrink_to_fit=False,\n",
    "#                    indent=0)\n",
    "# protection = Protection(locked=True,\n",
    "#                         hidden=False)"
   ]
  },
  {
   "cell_type": "code",
   "execution_count": 5,
   "metadata": {},
   "outputs": [],
   "source": [
    "fileName = \"3.xlsx\"\n",
    "wb = load_workbook(fileName)\n",
    "\n",
    "ws=wb[\"1月销售情况\"]\n",
    "\n",
    "titleFont=Font(size=18,bold=True)\n",
    "centerAlign=Alignment(horizontal=\"center\",vertical=\"center\")\n",
    "\n",
    "colTitleFont=Font(size=11,bold=True)\n",
    "normalFont=Font(size=11)\n",
    "maxValFont=copy(normalFont)  #必须copy，否则改maxValFont颜色时，normalFont的颜色也会跟着变\n",
    "maxValFont.color=\"7030A0\"\n",
    "minValFont=copy(normalFont)\n",
    "minValFont.color=\"FFFF00\"\n",
    "maxValFill=PatternFill(fill_type=\"solid\",fgColor=\"00FF00\")\n",
    "minValFill=PatternFill(fill_type=\"solid\",fgColor=\"FF0000\")\n",
    "\n",
    "\n",
    "ws['A1'].font=titleFont\n",
    "ws['A1'].alignment=centerAlign\n",
    "\n",
    "\n",
    "for row in ws[\"A2:C2\"]:\n",
    "    for cell in row:\n",
    "        cell.font=colTitleFont\n",
    "        cell.alignment=centerAlign\n",
    "        \n",
    "\n",
    "maxDic={}\n",
    "minDic={}\n",
    "for row in ws.iter_rows(min_row=3,max_row=10,min_col=1,max_col=3):\n",
    "    for cell in row:\n",
    "        cell.alignment=centerAlign\n",
    "    loc=row[0].value\n",
    "    val=row[2].value\n",
    "    \n",
    "    if loc in maxDic.keys():\n",
    "        if val>maxDic[loc].value:\n",
    "            maxDic[loc]=row[2]\n",
    "    else:\n",
    "        maxDic[loc]=row[2]\n",
    "        \n",
    "    if loc in minDic.keys():\n",
    "        if val<minDic[loc].value:\n",
    "            minDic[loc]=row[2]\n",
    "    else:\n",
    "        maxDic[loc]=row[2]\n",
    "        \n",
    "        \n",
    "for cell in maxDic.values():\n",
    "    rowIndex = cell.row\n",
    "    for row in ws.iter_rows(min_row=rowIndex,max_row=rowIndex,min_col=1,max_col=3):\n",
    "        for ce in row:\n",
    "            ce.fill = maxValFill\n",
    "            ce.font = maxValFont\n",
    "\n",
    "for cell in minDic.values():\n",
    "    rowIndex = cell.row\n",
    "    for row in ws.iter_rows(min_row=rowIndex, max_row=rowIndex, min_col=1, max_col=3):\n",
    "        for ce in row:\n",
    "            ce.fill = minValFill\n",
    "            ce.font = minValFont"
   ]
  },
  {
   "cell_type": "code",
   "execution_count": 15,
   "metadata": {},
   "outputs": [
    {
     "data": {
      "text/plain": [
       "{'华东': <Cell '1月销售情况'.C10>, '华北': <Cell '1月销售情况'.C9>}"
      ]
     },
     "execution_count": 15,
     "metadata": {},
     "output_type": "execute_result"
    }
   ],
   "source": [
    "maxDic"
   ]
  },
  {
   "cell_type": "code",
   "execution_count": 17,
   "metadata": {},
   "outputs": [],
   "source": [
    "# add comment\n",
    "comment = Comment(\"本年度各地区销售情况，红色为该区末尾，绿色为首位\",\"feige\")\n",
    "comment.width = 300\n",
    "comment.height = 50\n",
    "ws[\"A1\"].comment = comment\n",
    "wb.save(fileName)\n",
    "                  "
   ]
  },
  {
   "cell_type": "markdown",
   "metadata": {},
   "source": [
    "###### practice. calculation across multiple sheets"
   ]
  },
  {
   "cell_type": "code",
   "execution_count": 2,
   "metadata": {},
   "outputs": [],
   "source": [
    "# 1-3月的销售情况表，sum total sales amount per person for the three months\n",
    "# mark the most and the least\n",
    "# save to new sheet\"1-3\"\n",
    "\n",
    "def getOneSheetinfo(sheetName):\n",
    "    infos = {}\n",
    "    ws = wb[sheetName]\n",
    "    for row in ws.iter_rows(min_row=3,max_row=10,min_col=1,max_col=3):\n",
    "        info = []\n",
    "        for cell in row:\n",
    "           info.append(cell.value)\n",
    "        infos[info[1]] = info\n",
    "    return infos"
   ]
  },
  {
   "cell_type": "code",
   "execution_count": 6,
   "metadata": {},
   "outputs": [],
   "source": [
    "wb = load_workbook(fileName)\n",
    "dic = {}\n",
    "# {\"人名\":[\"人名\",\"区域\",\"销售总额\"]，...}\n",
    "needSheets = [\"1月销售情况\",\"2月销售情况\",\"3月销售情况\"]\n",
    "for sheet in wb.sheetnames:\n",
    "    if sheet in needSheets:\n",
    "        oneSheetDic = getOneSheetinfo(sheet)\n",
    "       # print(oneSheetDic)\n",
    "        for key,value in oneSheetDic.items():\n",
    "            if key in dic.keys():\n",
    "                # print(dic[key][2])\n",
    "                dic[key][2] += value[2]\n",
    "            else:\n",
    "                dic[key] = value\n",
    "\n",
    "ws = wb.create_sheet(\"1-3月销售情况\")\n",
    "\n",
    "ws.merge_cells(\"A1:C1\")\n",
    "ws['A1'] = '1-3月销售情况'\n",
    "ws['A1'].font = titleFont\n",
    "ws['A1'].alignment = centerAlign\n",
    "\n",
    "ws['A2'] = '区域'\n",
    "ws['B2'] = '员工'\n",
    "ws['C2'] = '销售总额'\n",
    "for index in ['A2','B2','C2']:\n",
    "    ws[index].font = colTitleFont\n",
    "    ws[index].alignment = centerAlign"
   ]
  },
  {
   "cell_type": "code",
   "execution_count": null,
   "metadata": {},
   "outputs": [],
   "source": [
    "# # '3'\n",
    "# rowIndex = 3\n",
    "# maxRowIndex = 3\n",
    "# maxValue = 0\n",
    "# minRowIndex = 3\n",
    "# minValue = 1000000\n",
    "# for value in dic.values():\n",
    "#     ws['A'+str(rowIndex)] = value[0]\n",
    "#     ws['B'+str(rowIndex)] = value[1]\n",
    "#     ws['C'+str(rowIndex)] = value[2]\n",
    "#     if value[2] > maxValue:\n",
    "#         maxValue = value[2]\n",
    "#         maxRowIndex = rowIndex\n",
    "#     if value[2] < minValue:\n",
    "#         minValue = value[2]\n",
    "#         minRowIndex = rowIndex\n",
    "#     rowIndex += 1\n",
    "\n",
    "# for col in ['A','B','C']:\n",
    "#     ws[col + str(maxRowIndex)].fill = maxValFill\n",
    "#     ws[col + str(maxRowIndex)].font = maxValFont\n",
    "#     ws[col + str(minRowIndex)].fill = minValFill\n",
    "#     ws[col + str(minRowIndex)].font = minValFont\n",
    "\n",
    "# wb.save(fileName)"
   ]
  },
  {
   "cell_type": "markdown",
   "metadata": {},
   "source": [
    "###### Draw Graphs"
   ]
  },
  {
   "cell_type": "code",
   "execution_count": 11,
   "metadata": {},
   "outputs": [],
   "source": [
    "from openpyxl import load_workbook\n",
    "from openpyxl.chart import (AreaChart,Reference,LineChart)\n",
    "from openpyxl.chart.shapes import GraphicalProperties\n",
    "import copy"
   ]
  },
  {
   "cell_type": "code",
   "execution_count": 12,
   "metadata": {},
   "outputs": [],
   "source": [
    "fileName = \"Lesson4.xlsx\"\n",
    "wb = load_workbook(fileName)\n",
    "ws = wb.active"
   ]
  },
  {
   "cell_type": "code",
   "execution_count": 13,
   "metadata": {},
   "outputs": [],
   "source": [
    "#面积图 Area Chart\n",
    "areaChart = AreaChart()\n",
    "xdata = Reference(ws,min_col=1,max_col=1,min_row=2,max_row=241)\n",
    "ydata = Reference(ws,min_col=2,max_col=2,min_row=2,max_row=241)\n",
    "areaChart.add_data(ydata,titles_from_data=False) # whether include title\n",
    "areaChart.set_categories(xdata)"
   ]
  },
  {
   "cell_type": "code",
   "execution_count": 16,
   "metadata": {},
   "outputs": [],
   "source": [
    "# Edit Fill Color\n",
    "s = areaChart.series[0]\n",
    "s.graphicalProperties.solidFill = \"04A5DC\"\n",
    "areaChart.title = \"Apple Stock Price Area Chart\"\n",
    "ws.add_chart(areaChart,'E40') #put the graph at E1"
   ]
  },
  {
   "cell_type": "code",
   "execution_count": 17,
   "metadata": {},
   "outputs": [],
   "source": [
    "#折线图 Line Chart\n",
    "lineChart = LineChart()\n",
    "lineChart.title = \"Apple Stock Price Line Chart\"\n",
    "ydata = Reference(ws,min_col=3,max_col=3,min_row=2,max_row=241)\n",
    "lineChart.add_data(ydata,titles_from_data=False)\n",
    "lineChart.set_categories(xdata)\n",
    "props = GraphicalProperties(solidFill=\"#dcbff2\")\n",
    "s = lineChart.series[0]\n",
    "s.graphicalProperties.line.solidFill = \"02536E\"\n",
    "ws.add_chart(lineChart,'N40')"
   ]
  },
  {
   "cell_type": "code",
   "execution_count": 18,
   "metadata": {},
   "outputs": [],
   "source": [
    "# line Chart + Area Chart\n",
    "areaChart_copy = copy.deepcopy(areaChart)\n",
    "lineChart_copy = copy.deepcopy(lineChart)\n",
    "areaChart_copy.legend = None\n",
    "lineChart_copy.legend = None\n",
    "lineChart_copy += areaChart_copy\n",
    "lineChart_copy.title = \"Apple Stock Price Chart\"\n",
    "\n",
    "# set backgroung color\n",
    "props = GraphicalProperties(solidFill=\"CEDBE7\")\n",
    "lineChart_copy.plot_area.graphicalProperties = props\n",
    "\n",
    "# y-axis position\n",
    "lineChart_copy.y_axis.crosses = 'max' #Y-axis is at the max x side, which is right\n",
    "# get rid of gridlines\n",
    "lineChart_copy.y_axis.majorGridlines = None\n",
    "\n",
    "ws.add_chart(lineChart_copy,\"J60\")\n",
    "\n",
    "wb.save(fileName)"
   ]
  },
  {
   "cell_type": "markdown",
   "metadata": {},
   "source": [
    "###### More Graphs"
   ]
  },
  {
   "cell_type": "code",
   "execution_count": 10,
   "metadata": {},
   "outputs": [],
   "source": [
    "from openpyxl import load_workbook\n",
    "from openpyxl.chart import (BarChart,StockChart,Reference,Series)\n",
    "from openpyxl.chart.axis import ChartLines\n",
    "from openpyxl.chart.updown_bars import UpDownBars"
   ]
  },
  {
   "cell_type": "code",
   "execution_count": 11,
   "metadata": {},
   "outputs": [],
   "source": [
    "#data structure [\"Date\",\"Volumn\",\"Open\",\"High\",\"Low\",\"Close\"]\n",
    "fileName = \"AAPL.xlsx\"\n",
    "#length/width\n",
    "ratio = 2\n",
    "wb = load_workbook(fileName)\n",
    "ws = wb.active"
   ]
  },
  {
   "cell_type": "code",
   "execution_count": 12,
   "metadata": {},
   "outputs": [],
   "source": [
    "c1 = StockChart()\n",
    "maxRow = ws.max_row // 10\n",
    "labels = Reference(ws,min_col=1,min_row=2,max_row=maxRow) # dates\n",
    "data = Reference(ws,min_col=4,max_col=6,min_row=1,max_row=maxRow) #High Low Close\n",
    "c1.add_data(data,titles_from_data=True)\n",
    "c1.set_categories(labels)\n",
    "for s in c1.series:\n",
    "    s.graphicalProperties.line.noFill = True\n",
    "s.marker.symbol = \"dot\"\n",
    "s.marker.size = 5\n",
    "c1.title = \"High-low-close\"\n",
    "c1.hiLowLines = ChartLines()\n",
    "c1.height *= ratio\n",
    "c1.width *= ratio"
   ]
  },
  {
   "cell_type": "code",
   "execution_count": 13,
   "metadata": {},
   "outputs": [],
   "source": [
    "# error bars\n",
    "from openpyxl.chart.data_source import NumData,NumVal\n",
    "pts = [NumVal(idx = i) for i in range(len(data)-1)]\n",
    "cache = NumData(pt = pts)\n",
    "c1.series[-1].val.numRef.numCache = cache\n",
    "\n",
    "ws.add_chart(c1,\"G50\")"
   ]
  },
  {
   "cell_type": "code",
   "execution_count": 14,
   "metadata": {},
   "outputs": [],
   "source": [
    "c2 = StockChart()\n",
    "data = Reference(ws,min_col=3,max_col=6,min_row=1,max_row=maxRow) #\"Open\",\"High\",\"Low\",\"Close\"\n",
    "c2.add_data(data,titles_from_data=True)\n",
    "c2.set_categories(labels)\n",
    "for s in c2.series:\n",
    "    s.graphicalProperties.line.noFill = True\n",
    "\n",
    "c2.hiLowLines = ChartLines()\n",
    "c2.upDownBars = UpDownBars()\n",
    "c2.title = \"Open-high-low-close\"\n",
    "c2.series[-1].val.numRef.numCache = cache\n",
    "\n",
    "c2.width *= ratio\n",
    "c2.height *= ratio\n",
    "\n",
    "ws.add_chart(c2,\"W50\")"
   ]
  },
  {
   "cell_type": "code",
   "execution_count": 15,
   "metadata": {},
   "outputs": [],
   "source": [
    "bar = BarChart()\n",
    "data = Reference(ws,min_col=2,min_row=1,max_row=maxRow)\n",
    "bar.add_data(data,titles_from_data=True)\n",
    "bar.set_categories(labels)\n",
    "\n",
    "from copy import deepcopy\n",
    "b1 = deepcopy(bar)\n",
    "c3 = deepcopy(c1)\n",
    "c3.y_axis.majorGridlines = None\n",
    "c3.y_axis.title = \"Price\"\n",
    "b1.y_axis.axId = 20 # must assign. otherwise, the next line doesn't work\n",
    "b1.z_axis = c3.y_axis\n",
    "b1.y_axis.crosses = \"max\" # to the right\n",
    "b1 += c3\n",
    "\n",
    "c3.title = \"High low close volume\"\n",
    "b1.height *= ratio\n",
    "b1.width *= ratio\n",
    "\n",
    "ws.add_chart(b1,\"G80\")"
   ]
  },
  {
   "cell_type": "code",
   "execution_count": 16,
   "metadata": {},
   "outputs": [],
   "source": [
    "b2 = deepcopy(bar)\n",
    "c4 = deepcopy(c2)\n",
    "c4.y_axis.majorGridlines = None\n",
    "c4.y_axis.title = \"Price\"\n",
    "b2.y_axis.axId = 2\n",
    "b2.z_axis = c4.y_axis\n",
    "b2.y_axis.crosses = \"max\"\n",
    "b2 += c4\n",
    "\n",
    "b2.width *= ratio\n",
    "b2.height *= ratio\n",
    "\n",
    "ws.add_chart(b2,\"W80\")\n",
    "\n",
    "wb.save(fileName)"
   ]
  },
  {
   "cell_type": "code",
   "execution_count": 18,
   "metadata": {},
   "outputs": [
    {
     "data": {
      "image/png": "[encoded data removed]",
      "text/plain": [
       "<Figure size 432x288 with 1 Axes>"
      ]
     },
     "metadata": {
      "needs_background": "light"
     },
     "output_type": "display_data"
    }
   ],
   "source": [
    "import matplotlib.pyplot as plt\n",
    "import matplotlib.image as mpimg\n",
    "\n",
    "img=mpimg.imread('c1.png')\n",
    "imgplot = plt.imshow(img)"
   ]
  },
  {
   "cell_type": "code",
   "execution_count": 21,
   "metadata": {},
   "outputs": [
    {
     "data": {
      "image/png": "[encoded data removed]",
      "text/plain": [
       "<Figure size 432x288 with 1 Axes>"
      ]
     },
     "metadata": {
      "needs_background": "light"
     },
     "output_type": "display_data"
    }
   ],
   "source": [
    "img=mpimg.imread('c2.png')\n",
    "imgplot = plt.imshow(img)"
   ]
  },
  {
   "cell_type": "code",
   "execution_count": 22,
   "metadata": {},
   "outputs": [
    {
     "data": {
      "image/png": "[encoded data removed]",
      "text/plain": [
       "<Figure size 432x288 with 1 Axes>"
      ]
     },
     "metadata": {
      "needs_background": "light"
     },
     "output_type": "display_data"
    }
   ],
   "source": [
    "img=mpimg.imread('b1.png')\n",
    "imgplot = plt.imshow(img)"
   ]
  },
  {
   "cell_type": "code",
   "execution_count": 23,
   "metadata": {},
   "outputs": [
    {
     "data": {
      "image/png": "[encoded data removed]",
      "text/plain": [
       "<Figure size 432x288 with 1 Axes>"
      ]
     },
     "metadata": {
      "needs_background": "light"
     },
     "output_type": "display_data"
    }
   ],
   "source": [
    "img=mpimg.imread('b2.png')\n",
    "imgplot = plt.imshow(img)"
   ]
  },
  {
   "cell_type": "code",
   "execution_count": null,
   "metadata": {},
   "outputs": [],
   "source": []
  }
 ],
 "metadata": {
  "kernelspec": {
   "display_name": "Python 3",
   "language": "python",
   "name": "python3"
  },
  "language_info": {
   "codemirror_mode": {
    "name": "ipython",
    "version": 3
   },
   "file_extension": ".py",
   "mimetype": "text/x-python",
   "name": "python",
   "nbconvert_exporter": "python",
   "pygments_lexer": "ipython3",
   "version": "3.7.9"
  }
 },
 "nbformat": 4,
 "nbformat_minor": 4
}
