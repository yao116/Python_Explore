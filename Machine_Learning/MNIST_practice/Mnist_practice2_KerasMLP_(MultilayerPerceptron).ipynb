{
 "cells": [
  {
   "cell_type": "markdown",
   "metadata": {},
   "source": [
    "###### Data source:http://yann.lecun.com/exdb/mnist/; tutorial:https://www.bilibili.com/video/BV14J411X7Bb?p=6"
   ]
  },
  {
   "cell_type": "code",
   "execution_count": 5,
   "metadata": {},
   "outputs": [
    {
     "name": "stdout",
     "output_type": "stream",
     "text": [
      "Collecting package metadata (current_repodata.json): ...working... done\n",
      "Solving environment: ...working... failed with initial frozen solve. Retrying with flexible solve.\n",
      "Solving environment: ...working... failed with repodata from current_repodata.json, will retry with next repodata source.\n",
      "Collecting package metadata (repodata.json): ...working... done\n",
      "Solving environment: ...working... done\n",
      "\n",
      "## Package Plan ##\n",
      "\n",
      "  environment location: C:\\Users\\admin\\anaconda3\\envs\\k1py37ml\n",
      "\n",
      "  added / updated specs:\n",
      "    - keras\n",
      "\n",
      "\n",
      "The following packages will be downloaded:\n",
      "\n",
      "    package                    |            build\n",
      "    ---------------------------|-----------------\n",
      "    _tflow_select-2.3.0        |              mkl           3 KB\n",
      "    absl-py-0.11.0             |     pyhd3eb1b0_1         103 KB\n",
      "    gast-0.4.0                 |             py_0          15 KB\n",
      "    keras-2.3.1                |                0           6 KB\n",
      "    keras-base-2.3.1           |           py37_0         485 KB\n",
      "    libmklml-2019.0.5          |       haa95532_0        17.5 MB\n",
      "    tensorboard-1.14.0         |   py37he3c9ec2_0         3.1 MB\n",
      "    tensorflow-1.14.0          |mkl_py37h7908ca0_0           5 KB\n",
      "    tensorflow-base-1.14.0     |mkl_py37ha978198_0        35.8 MB\n",
      "    tensorflow-estimator-1.14.0|             py_0         261 KB\n",
      "    ------------------------------------------------------------\n",
      "                                           Total:        57.2 MB\n",
      "\n",
      "The following NEW packages will be INSTALLED:\n",
      "\n",
      "  _tflow_select      pkgs/main/win-64::_tflow_select-2.3.0-mkl\n",
      "  absl-py            pkgs/main/noarch::absl-py-0.11.0-pyhd3eb1b0_1\n",
      "  astor              pkgs/main/win-64::astor-0.8.1-py37_0\n",
      "  gast               pkgs/main/noarch::gast-0.4.0-py_0\n",
      "  grpcio             pkgs/main/win-64::grpcio-1.31.0-py37he7da953_0\n",
      "  keras              pkgs/main/win-64::keras-2.3.1-0\n",
      "  keras-applications pkgs/main/noarch::keras-applications-1.0.8-py_1\n",
      "  keras-base         pkgs/main/win-64::keras-base-2.3.1-py37_0\n",
      "  keras-preprocessi~ pkgs/main/noarch::keras-preprocessing-1.1.0-py_1\n",
      "  libmklml           pkgs/main/win-64::libmklml-2019.0.5-haa95532_0\n",
      "  libprotobuf        pkgs/main/win-64::libprotobuf-3.13.0.1-h200bbdf_0\n",
      "  markdown           pkgs/main/win-64::markdown-3.3.3-py37haa95532_0\n",
      "  protobuf           pkgs/main/win-64::protobuf-3.13.0.1-py37ha925a31_1\n",
      "  tensorboard        pkgs/main/win-64::tensorboard-1.14.0-py37he3c9ec2_0\n",
      "  tensorflow         pkgs/main/win-64::tensorflow-1.14.0-mkl_py37h7908ca0_0\n",
      "  tensorflow-base    pkgs/main/win-64::tensorflow-base-1.14.0-mkl_py37ha978198_0\n",
      "  tensorflow-estima~ pkgs/main/noarch::tensorflow-estimator-1.14.0-py_0\n",
      "  termcolor          pkgs/main/win-64::termcolor-1.1.0-py37_1\n",
      "\n",
      "\n",
      "\n",
      "Downloading and Extracting Packages\n",
      "\n",
      "tensorflow-estimator | 261 KB    |            |   0% \n",
      "tensorflow-estimator | 261 KB    | #######3   |  73% \n",
      "tensorflow-estimator | 261 KB    | ########## | 100% \n",
      "tensorflow-estimator | 261 KB    | ########## | 100% \n",
      "\n",
      "_tflow_select-2.3.0  | 3 KB      |            |   0% \n",
      "_tflow_select-2.3.0  | 3 KB      | ########## | 100% \n",
      "\n",
      "keras-2.3.1          | 6 KB      |            |   0% \n",
      "keras-2.3.1          | 6 KB      | ########## | 100% \n",
      "\n",
      "absl-py-0.11.0       | 103 KB    |            |   0% \n",
      "absl-py-0.11.0       | 103 KB    | ########## | 100% \n",
      "absl-py-0.11.0       | 103 KB    | ########## | 100% \n",
      "\n",
      "tensorboard-1.14.0   | 3.1 MB    |            |   0% \n",
      "tensorboard-1.14.0   | 3.1 MB    | ##4        |  25% \n",
      "tensorboard-1.14.0   | 3.1 MB    | #####8     |  58% \n",
      "tensorboard-1.14.0   | 3.1 MB    | #########2 |  93% \n",
      "tensorboard-1.14.0   | 3.1 MB    | ########## | 100% \n",
      "\n",
      "gast-0.4.0           | 15 KB     |            |   0% \n",
      "gast-0.4.0           | 15 KB     | ########## | 100% \n",
      "gast-0.4.0           | 15 KB     | ########## | 100% \n",
      "\n",
      "keras-base-2.3.1     | 485 KB    |            |   0% \n",
      "keras-base-2.3.1     | 485 KB    | ########## | 100% \n",
      "keras-base-2.3.1     | 485 KB    | ########## | 100% \n",
      "\n",
      "tensorflow-base-1.14 | 35.8 MB   |            |   0% \n",
      "tensorflow-base-1.14 | 35.8 MB   |            |   0% \n",
      "tensorflow-base-1.14 | 35.8 MB   | 2          |   3% \n",
      "tensorflow-base-1.14 | 35.8 MB   | 5          |   5% \n",
      "tensorflow-base-1.14 | 35.8 MB   | 8          |   8% \n",
      "tensorflow-base-1.14 | 35.8 MB   | #1         |  11% \n",
      "tensorflow-base-1.14 | 35.8 MB   | #4         |  14% \n",
      "tensorflow-base-1.14 | 35.8 MB   | #7         |  18% \n",
      "tensorflow-base-1.14 | 35.8 MB   | ##         |  21% \n",
      "tensorflow-base-1.14 | 35.8 MB   | ##3        |  24% \n",
      "tensorflow-base-1.14 | 35.8 MB   | ##6        |  27% \n",
      "tensorflow-base-1.14 | 35.8 MB   | ##9        |  30% \n",
      "tensorflow-base-1.14 | 35.8 MB   | ###2       |  33% \n",
      "tensorflow-base-1.14 | 35.8 MB   | ###5       |  36% \n",
      "tensorflow-base-1.14 | 35.8 MB   | ###8       |  39% \n",
      "tensorflow-base-1.14 | 35.8 MB   | ####1      |  42% \n",
      "tensorflow-base-1.14 | 35.8 MB   | ####4      |  45% \n",
      "tensorflow-base-1.14 | 35.8 MB   | ####7      |  47% \n",
      "tensorflow-base-1.14 | 35.8 MB   | #####      |  50% \n",
      "tensorflow-base-1.14 | 35.8 MB   | #####3     |  53% \n",
      "tensorflow-base-1.14 | 35.8 MB   | #####6     |  56% \n",
      "tensorflow-base-1.14 | 35.8 MB   | #####9     |  59% \n",
      "tensorflow-base-1.14 | 35.8 MB   | ######2    |  62% \n",
      "tensorflow-base-1.14 | 35.8 MB   | ######5    |  65% \n",
      "tensorflow-base-1.14 | 35.8 MB   | ######9    |  69% \n",
      "tensorflow-base-1.14 | 35.8 MB   | #######2   |  72% \n",
      "tensorflow-base-1.14 | 35.8 MB   | #######5   |  75% \n",
      "tensorflow-base-1.14 | 35.8 MB   | #######7   |  78% \n",
      "tensorflow-base-1.14 | 35.8 MB   | ########   |  81% \n",
      "tensorflow-base-1.14 | 35.8 MB   | ########3  |  84% \n",
      "tensorflow-base-1.14 | 35.8 MB   | ########6  |  87% \n",
      "tensorflow-base-1.14 | 35.8 MB   | ########9  |  90% \n",
      "tensorflow-base-1.14 | 35.8 MB   | #########2 |  92% \n",
      "tensorflow-base-1.14 | 35.8 MB   | #########5 |  95% \n",
      "tensorflow-base-1.14 | 35.8 MB   | #########7 |  98% \n",
      "tensorflow-base-1.14 | 35.8 MB   | ########## | 100% \n",
      "\n",
      "tensorflow-1.14.0    | 5 KB      |            |   0% \n",
      "tensorflow-1.14.0    | 5 KB      | ########## | 100% \n",
      "tensorflow-1.14.0    | 5 KB      | ########## | 100% \n",
      "\n",
      "libmklml-2019.0.5    | 17.5 MB   |            |   0% \n",
      "libmklml-2019.0.5    | 17.5 MB   |            |   0% \n",
      "libmklml-2019.0.5    | 17.5 MB   | 5          |   5% \n",
      "libmklml-2019.0.5    | 17.5 MB   | #          |  11% \n",
      "libmklml-2019.0.5    | 17.5 MB   | #5         |  16% \n",
      "libmklml-2019.0.5    | 17.5 MB   | ##         |  21% \n",
      "libmklml-2019.0.5    | 17.5 MB   | ##5        |  26% \n",
      "libmklml-2019.0.5    | 17.5 MB   | ###1       |  31% \n",
      "libmklml-2019.0.5    | 17.5 MB   | ###5       |  36% \n",
      "libmklml-2019.0.5    | 17.5 MB   | ####1      |  42% \n",
      "libmklml-2019.0.5    | 17.5 MB   | ####6      |  47% \n",
      "libmklml-2019.0.5    | 17.5 MB   | #####2     |  53% \n",
      "libmklml-2019.0.5    | 17.5 MB   | #####8     |  58% \n",
      "libmklml-2019.0.5    | 17.5 MB   | ######3    |  64% \n",
      "libmklml-2019.0.5    | 17.5 MB   | ######8    |  69% \n",
      "libmklml-2019.0.5    | 17.5 MB   | #######4   |  74% \n",
      "libmklml-2019.0.5    | 17.5 MB   | #######9   |  80% \n",
      "libmklml-2019.0.5    | 17.5 MB   | ########5  |  85% \n",
      "libmklml-2019.0.5    | 17.5 MB   | #########1 |  92% \n",
      "libmklml-2019.0.5    | 17.5 MB   | #########7 |  98% \n",
      "libmklml-2019.0.5    | 17.5 MB   | ########## | 100% \n",
      "Preparing transaction: ...working... done\n",
      "Verifying transaction: ...working... done\n",
      "Executing transaction: ...working... done\n"
     ]
    }
   ],
   "source": [
    "import sys\n",
    "!conda install --yes --prefix {sys.prefix} keras"
   ]
  },
  {
   "cell_type": "code",
   "execution_count": 2,
   "metadata": {},
   "outputs": [],
   "source": [
    "import warnings\n",
    "warnings.filterwarnings(\"ignore\")"
   ]
  },
  {
   "cell_type": "code",
   "execution_count": 6,
   "metadata": {},
   "outputs": [
    {
     "name": "stderr",
     "output_type": "stream",
     "text": [
      "Using TensorFlow backend.\n"
     ]
    }
   ],
   "source": [
    "from keras.datasets import mnist"
   ]
  },
  {
   "cell_type": "code",
   "execution_count": 8,
   "metadata": {},
   "outputs": [
    {
     "name": "stdout",
     "output_type": "stream",
     "text": [
      "Training has 60000 samples.\n",
      "Testing has 10000 samples.\n"
     ]
    }
   ],
   "source": [
    "(X_train,y_train),(X_test,y_test)=mnist.load_data()\n",
    "\n",
    "print(\"Training has {} samples.\".format(len(X_train)))\n",
    "print(\"Testing has {} samples.\".format(len(X_test)))"
   ]
  },
  {
   "cell_type": "code",
   "execution_count": 10,
   "metadata": {},
   "outputs": [
    {
     "name": "stdout",
     "output_type": "stream",
     "text": [
      "(60000, 28, 28) (60000,)\n",
      "(10000, 28, 28) (10000,)\n"
     ]
    }
   ],
   "source": [
    "print(X_train.shape,y_train.shape)\n",
    "print(X_test.shape,y_test.shape)"
   ]
  },
  {
   "cell_type": "markdown",
   "metadata": {},
   "source": [
    "#### Data visualization"
   ]
  },
  {
   "cell_type": "code",
   "execution_count": 11,
   "metadata": {},
   "outputs": [],
   "source": [
    "import matplotlib.pyplot as plt\n",
    "%matplotlib inline\n",
    "plt.rcParams['font.sans-serif']=['SimHei']  #用来正常显示中文标签\n",
    "plt.rcParams['axes.unicode_minus']=False    #用来正常显示负号"
   ]
  },
  {
   "cell_type": "code",
   "execution_count": 15,
   "metadata": {},
   "outputs": [
    {
     "data": {
      "text/plain": [
       "(28, 28)"
      ]
     },
     "execution_count": 15,
     "metadata": {},
     "output_type": "execute_result"
    }
   ],
   "source": [
    "X_train[7].shape"
   ]
  },
  {
   "cell_type": "code",
   "execution_count": 16,
   "metadata": {},
   "outputs": [
    {
     "data": {
      "text/plain": [
       "array([[  0,   0,   0,   0,   0,   0,   0,   0,   0,   0,   0,   0,   0,\n",
       "          0,   0,   0,   0,   0,   0,   0,   0,   0,   0,   0,   0,   0,\n",
       "          0,   0],\n",
       "       [  0,   0,   0,   0,   0,   0,   0,   0,   0,   0,   0,   0,   0,\n",
       "          0,   0,   0,   0,   0,   0,   0,   0,   0,   0,   0,   0,   0,\n",
       "          0,   0],\n",
       "       [  0,   0,   0,   0,   0,   0,   0,   0,   0,   0,   0,   0,   0,\n",
       "          0,   0,   0,   0,   0,   0,   0,   0,   0,   0,   0,   0,   0,\n",
       "          0,   0],\n",
       "       [  0,   0,   0,   0,   0,   0,   0,   0,   0,   0,   0,   0,   0,\n",
       "          0,   0,   0,   0,   0,   0,   0,   0,   0,   0,   0,   0,   0,\n",
       "          0,   0],\n",
       "       [  0,   0,   0,   0,   0,   0,   0,   0,   0,   0,   0,   0,   0,\n",
       "          0,   0,   0,   0,   0,   0,   0,   0,   0,   0,   0,   0,   0,\n",
       "          0,   0],\n",
       "       [  0,   0,   0,   0,   0,   0,   0,   0,   0,   0,   0,  38,  43,\n",
       "        105, 255, 253, 253, 253, 253, 253, 174,   6,   0,   0,   0,   0,\n",
       "          0,   0],\n",
       "       [  0,   0,   0,   0,   0,   0,   0,   0,   0,  43, 139, 224, 226,\n",
       "        252, 253, 252, 252, 252, 252, 252, 252, 158,  14,   0,   0,   0,\n",
       "          0,   0],\n",
       "       [  0,   0,   0,   0,   0,   0,   0,   0,   0, 178, 252, 252, 252,\n",
       "        252, 253, 252, 252, 252, 252, 252, 252, 252,  59,   0,   0,   0,\n",
       "          0,   0],\n",
       "       [  0,   0,   0,   0,   0,   0,   0,   0,   0, 109, 252, 252, 230,\n",
       "        132, 133, 132, 132, 189, 252, 252, 252, 252,  59,   0,   0,   0,\n",
       "          0,   0],\n",
       "       [  0,   0,   0,   0,   0,   0,   0,   0,   0,   4,  29,  29,  24,\n",
       "          0,   0,   0,   0,  14, 226, 252, 252, 172,   7,   0,   0,   0,\n",
       "          0,   0],\n",
       "       [  0,   0,   0,   0,   0,   0,   0,   0,   0,   0,   0,   0,   0,\n",
       "          0,   0,   0,   0,  85, 243, 252, 252, 144,   0,   0,   0,   0,\n",
       "          0,   0],\n",
       "       [  0,   0,   0,   0,   0,   0,   0,   0,   0,   0,   0,   0,   0,\n",
       "          0,   0,   0,  88, 189, 252, 252, 252,  14,   0,   0,   0,   0,\n",
       "          0,   0],\n",
       "       [  0,   0,   0,   0,   0,   0,   0,   0,   0,   0,   0,   0,   0,\n",
       "          0,  91, 212, 247, 252, 252, 252, 204,   9,   0,   0,   0,   0,\n",
       "          0,   0],\n",
       "       [  0,   0,   0,   0,   0,   0,   0,   0,   0,  32, 125, 193, 193,\n",
       "        193, 253, 252, 252, 252, 238, 102,  28,   0,   0,   0,   0,   0,\n",
       "          0,   0],\n",
       "       [  0,   0,   0,   0,   0,   0,   0,   0,  45, 222, 252, 252, 252,\n",
       "        252, 253, 252, 252, 252, 177,   0,   0,   0,   0,   0,   0,   0,\n",
       "          0,   0],\n",
       "       [  0,   0,   0,   0,   0,   0,   0,   0,  45, 223, 253, 253, 253,\n",
       "        253, 255, 253, 253, 253, 253,  74,   0,   0,   0,   0,   0,   0,\n",
       "          0,   0],\n",
       "       [  0,   0,   0,   0,   0,   0,   0,   0,   0,  31, 123,  52,  44,\n",
       "         44,  44,  44, 143, 252, 252,  74,   0,   0,   0,   0,   0,   0,\n",
       "          0,   0],\n",
       "       [  0,   0,   0,   0,   0,   0,   0,   0,   0,   0,   0,   0,   0,\n",
       "          0,   0,   0,  15, 252, 252,  74,   0,   0,   0,   0,   0,   0,\n",
       "          0,   0],\n",
       "       [  0,   0,   0,   0,   0,   0,   0,   0,   0,   0,   0,   0,   0,\n",
       "          0,   0,   0,  86, 252, 252,  74,   0,   0,   0,   0,   0,   0,\n",
       "          0,   0],\n",
       "       [  0,   0,   0,   0,   0,   0,   5,  75,   9,   0,   0,   0,   0,\n",
       "          0,   0,  98, 242, 252, 252,  74,   0,   0,   0,   0,   0,   0,\n",
       "          0,   0],\n",
       "       [  0,   0,   0,   0,   0,  61, 183, 252,  29,   0,   0,   0,   0,\n",
       "         18,  92, 239, 252, 252, 243,  65,   0,   0,   0,   0,   0,   0,\n",
       "          0,   0],\n",
       "       [  0,   0,   0,   0,   0, 208, 252, 252, 147, 134, 134, 134, 134,\n",
       "        203, 253, 252, 252, 188,  83,   0,   0,   0,   0,   0,   0,   0,\n",
       "          0,   0],\n",
       "       [  0,   0,   0,   0,   0, 208, 252, 252, 252, 252, 252, 252, 252,\n",
       "        252, 253, 230, 153,   8,   0,   0,   0,   0,   0,   0,   0,   0,\n",
       "          0,   0],\n",
       "       [  0,   0,   0,   0,   0,  49, 157, 252, 252, 252, 252, 252, 217,\n",
       "        207, 146,  45,   0,   0,   0,   0,   0,   0,   0,   0,   0,   0,\n",
       "          0,   0],\n",
       "       [  0,   0,   0,   0,   0,   0,   7, 103, 235, 252, 172, 103,  24,\n",
       "          0,   0,   0,   0,   0,   0,   0,   0,   0,   0,   0,   0,   0,\n",
       "          0,   0],\n",
       "       [  0,   0,   0,   0,   0,   0,   0,   0,   0,   0,   0,   0,   0,\n",
       "          0,   0,   0,   0,   0,   0,   0,   0,   0,   0,   0,   0,   0,\n",
       "          0,   0],\n",
       "       [  0,   0,   0,   0,   0,   0,   0,   0,   0,   0,   0,   0,   0,\n",
       "          0,   0,   0,   0,   0,   0,   0,   0,   0,   0,   0,   0,   0,\n",
       "          0,   0],\n",
       "       [  0,   0,   0,   0,   0,   0,   0,   0,   0,   0,   0,   0,   0,\n",
       "          0,   0,   0,   0,   0,   0,   0,   0,   0,   0,   0,   0,   0,\n",
       "          0,   0]], dtype=uint8)"
      ]
     },
     "execution_count": 16,
     "metadata": {},
     "output_type": "execute_result"
    }
   ],
   "source": [
    "X_train[7]"
   ]
  },
  {
   "cell_type": "code",
   "execution_count": 17,
   "metadata": {},
   "outputs": [
    {
     "data": {
      "image/png": "[encoded data removed]",
      "text/plain": [
       "<Figure size 432x288 with 1 Axes>"
      ]
     },
     "metadata": {
      "needs_background": "light"
     },
     "output_type": "display_data"
    }
   ],
   "source": [
    "# visualize one of the image\n",
    "plt.imshow(X_train[7])\n",
    "plt.title('Real label: '+str(y_train[7]))\n",
    "plt.show()"
   ]
  },
  {
   "cell_type": "code",
   "execution_count": 18,
   "metadata": {},
   "outputs": [
    {
     "data": {
      "image/png": "[encoded data removed]",
      "text/plain": [
       "<Figure size 432x288 with 1 Axes>"
      ]
     },
     "metadata": {
      "needs_background": "light"
     },
     "output_type": "display_data"
    }
   ],
   "source": [
    "plt.imshow(X_train[19])\n",
    "plt.title('Real label: '+str(y_train[19]))\n",
    "plt.show()"
   ]
  },
  {
   "cell_type": "code",
   "execution_count": 22,
   "metadata": {},
   "outputs": [
    {
     "data": {
      "image/png": "[encoded data removed]",
      "text/plain": [
       "<Figure size 720x720 with 1 Axes>"
      ]
     },
     "metadata": {
      "needs_background": "light"
     },
     "output_type": "display_data"
    }
   ],
   "source": [
    "# Heat map\n",
    "def visualize_input(img,ax):\n",
    "    # 先绘制数字的大图，然后对784个像素逐一标注灰度值\n",
    "    ax.imshow(img,cmap='gray')\n",
    "    width,height=img.shape\n",
    "    thresh = img.max()/2.5\n",
    "    for x in range(width):\n",
    "        for y in range(height):\n",
    "            ax.annotate(str(round(img[x][y],2)),xy=(y,x),\n",
    "                       horizontalalignment='center',verticalalignment='center',\n",
    "                       color='white' if img[x][y]<thresh else 'black')\n",
    "            \n",
    "\n",
    "i=33\n",
    "fig=plt.figure(figsize=(10,10))\n",
    "ax=fig.add_subplot(111)\n",
    "visualize_input(X_train[i],ax)"
   ]
  },
  {
   "cell_type": "code",
   "execution_count": 25,
   "metadata": {},
   "outputs": [
    {
     "data": {
      "image/png": "[encoded data removed]",
      "text/plain": [
       "<Figure size 720x720 with 4 Axes>"
      ]
     },
     "metadata": {},
     "output_type": "display_data"
    },
    {
     "data": {
      "image/png": "[encoded data removed]",
      "text/plain": [
       "<Figure size 720x720 with 4 Axes>"
      ]
     },
     "metadata": {},
     "output_type": "display_data"
    },
    {
     "data": {
      "image/png": "[encoded data removed]",
      "text/plain": [
       "<Figure size 720x720 with 4 Axes>"
      ]
     },
     "metadata": {},
     "output_type": "display_data"
    }
   ],
   "source": [
    "import matplotlib.cm as cm\n",
    "\n",
    "# display several images\n",
    "for i in range(20,32):\n",
    "    plt.style.use({'figure.figsize':(10,10)}) # set fig size\n",
    "    plt.subplot(1,4,i%4+1)\n",
    "    plt.imshow(X_train[i])\n",
    "    title='Real label:{}'.format(str(y_train[i]))\n",
    "    plt.title(title)\n",
    "    plt.xticks([])\n",
    "    plt.yticks([])\n",
    "    plt.axis('off')\n",
    "    if i%4 ==3:\n",
    "        plt.show()"
   ]
  },
  {
   "cell_type": "code",
   "execution_count": 27,
   "metadata": {},
   "outputs": [
    {
     "data": {
      "image/png": "[encoded data removed]",
      "text/plain": [
       "<Figure size 720x720 with 4 Axes>"
      ]
     },
     "metadata": {},
     "output_type": "display_data"
    },
    {
     "data": {
      "image/png": "[encoded data removed]",
      "text/plain": [
       "<Figure size 720x720 with 4 Axes>"
      ]
     },
     "metadata": {},
     "output_type": "display_data"
    },
    {
     "data": {
      "image/png": "[encoded data removed]",
      "text/plain": [
       "<Figure size 720x720 with 4 Axes>"
      ]
     },
     "metadata": {},
     "output_type": "display_data"
    }
   ],
   "source": [
    "# grayscale version\n",
    "# display several images\n",
    "for i in range(20,32):\n",
    "    plt.style.use({'figure.figsize':(10,10)}) # set fig size\n",
    "    plt.subplot(1,4,i%4+1)\n",
    "    plt.imshow(X_train[i],cmap='gray')\n",
    "    title='Real label:{}'.format(str(y_train[i]))\n",
    "    plt.title(title)\n",
    "    plt.xticks([])\n",
    "    plt.yticks([])\n",
    "    plt.axis('off')\n",
    "    if i%4 ==3:\n",
    "        plt.show()"
   ]
  },
  {
   "cell_type": "markdown",
   "metadata": {},
   "source": [
    "#### Preprocess - normalization 归一化"
   ]
  },
  {
   "cell_type": "code",
   "execution_count": 28,
   "metadata": {},
   "outputs": [
    {
     "data": {
      "text/plain": [
       "array([[0.        , 0.        , 0.        , 0.        , 0.        ,\n",
       "        0.        , 0.        , 0.        , 0.        , 0.        ,\n",
       "        0.        , 0.        , 0.        , 0.        , 0.        ,\n",
       "        0.        , 0.        , 0.        , 0.        , 0.        ,\n",
       "        0.        , 0.        , 0.        , 0.        , 0.        ,\n",
       "        0.        , 0.        , 0.        ],\n",
       "       [0.        , 0.        , 0.        , 0.        , 0.        ,\n",
       "        0.        , 0.        , 0.        , 0.        , 0.        ,\n",
       "        0.        , 0.        , 0.        , 0.        , 0.        ,\n",
       "        0.        , 0.        , 0.        , 0.        , 0.        ,\n",
       "        0.        , 0.        , 0.        , 0.        , 0.        ,\n",
       "        0.        , 0.        , 0.        ],\n",
       "       [0.        , 0.        , 0.        , 0.        , 0.        ,\n",
       "        0.        , 0.        , 0.        , 0.        , 0.        ,\n",
       "        0.        , 0.        , 0.        , 0.        , 0.        ,\n",
       "        0.        , 0.        , 0.        , 0.        , 0.        ,\n",
       "        0.        , 0.        , 0.        , 0.        , 0.        ,\n",
       "        0.        , 0.        , 0.        ],\n",
       "       [0.        , 0.        , 0.        , 0.        , 0.        ,\n",
       "        0.        , 0.        , 0.        , 0.        , 0.        ,\n",
       "        0.        , 0.        , 0.        , 0.        , 0.        ,\n",
       "        0.        , 0.        , 0.        , 0.        , 0.        ,\n",
       "        0.        , 0.        , 0.        , 0.        , 0.        ,\n",
       "        0.        , 0.        , 0.        ],\n",
       "       [0.        , 0.        , 0.        , 0.        , 0.        ,\n",
       "        0.        , 0.        , 0.        , 0.        , 0.        ,\n",
       "        0.        , 0.        , 0.        , 0.        , 0.        ,\n",
       "        0.        , 0.        , 0.        , 0.        , 0.        ,\n",
       "        0.        , 0.        , 0.        , 0.        , 0.        ,\n",
       "        0.        , 0.        , 0.        ],\n",
       "       [0.        , 0.        , 0.        , 0.        , 0.        ,\n",
       "        0.        , 0.        , 0.        , 0.        , 0.        ,\n",
       "        0.        , 0.        , 0.01176471, 0.07058824, 0.07058824,\n",
       "        0.07058824, 0.49411765, 0.53333336, 0.6862745 , 0.10196079,\n",
       "        0.6509804 , 1.        , 0.96862745, 0.49803922, 0.        ,\n",
       "        0.        , 0.        , 0.        ],\n",
       "       [0.        , 0.        , 0.        , 0.        , 0.        ,\n",
       "        0.        , 0.        , 0.        , 0.11764706, 0.14117648,\n",
       "        0.36862746, 0.6039216 , 0.6666667 , 0.99215686, 0.99215686,\n",
       "        0.99215686, 0.99215686, 0.99215686, 0.88235295, 0.6745098 ,\n",
       "        0.99215686, 0.9490196 , 0.7647059 , 0.2509804 , 0.        ,\n",
       "        0.        , 0.        , 0.        ],\n",
       "       [0.        , 0.        , 0.        , 0.        , 0.        ,\n",
       "        0.        , 0.        , 0.19215687, 0.93333334, 0.99215686,\n",
       "        0.99215686, 0.99215686, 0.99215686, 0.99215686, 0.99215686,\n",
       "        0.99215686, 0.99215686, 0.9843137 , 0.3647059 , 0.32156864,\n",
       "        0.32156864, 0.21960784, 0.15294118, 0.        , 0.        ,\n",
       "        0.        , 0.        , 0.        ],\n",
       "       [0.        , 0.        , 0.        , 0.        , 0.        ,\n",
       "        0.        , 0.        , 0.07058824, 0.85882354, 0.99215686,\n",
       "        0.99215686, 0.99215686, 0.99215686, 0.99215686, 0.7764706 ,\n",
       "        0.7137255 , 0.96862745, 0.94509804, 0.        , 0.        ,\n",
       "        0.        , 0.        , 0.        , 0.        , 0.        ,\n",
       "        0.        , 0.        , 0.        ],\n",
       "       [0.        , 0.        , 0.        , 0.        , 0.        ,\n",
       "        0.        , 0.        , 0.        , 0.3137255 , 0.6117647 ,\n",
       "        0.41960785, 0.99215686, 0.99215686, 0.8039216 , 0.04313726,\n",
       "        0.        , 0.16862746, 0.6039216 , 0.        , 0.        ,\n",
       "        0.        , 0.        , 0.        , 0.        , 0.        ,\n",
       "        0.        , 0.        , 0.        ],\n",
       "       [0.        , 0.        , 0.        , 0.        , 0.        ,\n",
       "        0.        , 0.        , 0.        , 0.        , 0.05490196,\n",
       "        0.00392157, 0.6039216 , 0.99215686, 0.3529412 , 0.        ,\n",
       "        0.        , 0.        , 0.        , 0.        , 0.        ,\n",
       "        0.        , 0.        , 0.        , 0.        , 0.        ,\n",
       "        0.        , 0.        , 0.        ],\n",
       "       [0.        , 0.        , 0.        , 0.        , 0.        ,\n",
       "        0.        , 0.        , 0.        , 0.        , 0.        ,\n",
       "        0.        , 0.54509807, 0.99215686, 0.74509805, 0.00784314,\n",
       "        0.        , 0.        , 0.        , 0.        , 0.        ,\n",
       "        0.        , 0.        , 0.        , 0.        , 0.        ,\n",
       "        0.        , 0.        , 0.        ],\n",
       "       [0.        , 0.        , 0.        , 0.        , 0.        ,\n",
       "        0.        , 0.        , 0.        , 0.        , 0.        ,\n",
       "        0.        , 0.04313726, 0.74509805, 0.99215686, 0.27450982,\n",
       "        0.        , 0.        , 0.        , 0.        , 0.        ,\n",
       "        0.        , 0.        , 0.        , 0.        , 0.        ,\n",
       "        0.        , 0.        , 0.        ],\n",
       "       [0.        , 0.        , 0.        , 0.        , 0.        ,\n",
       "        0.        , 0.        , 0.        , 0.        , 0.        ,\n",
       "        0.        , 0.        , 0.13725491, 0.94509804, 0.88235295,\n",
       "        0.627451  , 0.42352942, 0.00392157, 0.        , 0.        ,\n",
       "        0.        , 0.        , 0.        , 0.        , 0.        ,\n",
       "        0.        , 0.        , 0.        ],\n",
       "       [0.        , 0.        , 0.        , 0.        , 0.        ,\n",
       "        0.        , 0.        , 0.        , 0.        , 0.        ,\n",
       "        0.        , 0.        , 0.        , 0.31764707, 0.9411765 ,\n",
       "        0.99215686, 0.99215686, 0.46666667, 0.09803922, 0.        ,\n",
       "        0.        , 0.        , 0.        , 0.        , 0.        ,\n",
       "        0.        , 0.        , 0.        ],\n",
       "       [0.        , 0.        , 0.        , 0.        , 0.        ,\n",
       "        0.        , 0.        , 0.        , 0.        , 0.        ,\n",
       "        0.        , 0.        , 0.        , 0.        , 0.1764706 ,\n",
       "        0.7294118 , 0.99215686, 0.99215686, 0.5882353 , 0.10588235,\n",
       "        0.        , 0.        , 0.        , 0.        , 0.        ,\n",
       "        0.        , 0.        , 0.        ],\n",
       "       [0.        , 0.        , 0.        , 0.        , 0.        ,\n",
       "        0.        , 0.        , 0.        , 0.        , 0.        ,\n",
       "        0.        , 0.        , 0.        , 0.        , 0.        ,\n",
       "        0.0627451 , 0.3647059 , 0.9882353 , 0.99215686, 0.73333335,\n",
       "        0.        , 0.        , 0.        , 0.        , 0.        ,\n",
       "        0.        , 0.        , 0.        ],\n",
       "       [0.        , 0.        , 0.        , 0.        , 0.        ,\n",
       "        0.        , 0.        , 0.        , 0.        , 0.        ,\n",
       "        0.        , 0.        , 0.        , 0.        , 0.        ,\n",
       "        0.        , 0.        , 0.9764706 , 0.99215686, 0.9764706 ,\n",
       "        0.2509804 , 0.        , 0.        , 0.        , 0.        ,\n",
       "        0.        , 0.        , 0.        ],\n",
       "       [0.        , 0.        , 0.        , 0.        , 0.        ,\n",
       "        0.        , 0.        , 0.        , 0.        , 0.        ,\n",
       "        0.        , 0.        , 0.        , 0.        , 0.18039216,\n",
       "        0.50980395, 0.7176471 , 0.99215686, 0.99215686, 0.8117647 ,\n",
       "        0.00784314, 0.        , 0.        , 0.        , 0.        ,\n",
       "        0.        , 0.        , 0.        ],\n",
       "       [0.        , 0.        , 0.        , 0.        , 0.        ,\n",
       "        0.        , 0.        , 0.        , 0.        , 0.        ,\n",
       "        0.        , 0.        , 0.15294118, 0.5803922 , 0.8980392 ,\n",
       "        0.99215686, 0.99215686, 0.99215686, 0.98039216, 0.7137255 ,\n",
       "        0.        , 0.        , 0.        , 0.        , 0.        ,\n",
       "        0.        , 0.        , 0.        ],\n",
       "       [0.        , 0.        , 0.        , 0.        , 0.        ,\n",
       "        0.        , 0.        , 0.        , 0.        , 0.        ,\n",
       "        0.09411765, 0.44705883, 0.8666667 , 0.99215686, 0.99215686,\n",
       "        0.99215686, 0.99215686, 0.7882353 , 0.30588236, 0.        ,\n",
       "        0.        , 0.        , 0.        , 0.        , 0.        ,\n",
       "        0.        , 0.        , 0.        ],\n",
       "       [0.        , 0.        , 0.        , 0.        , 0.        ,\n",
       "        0.        , 0.        , 0.        , 0.09019608, 0.25882354,\n",
       "        0.8352941 , 0.99215686, 0.99215686, 0.99215686, 0.99215686,\n",
       "        0.7764706 , 0.31764707, 0.00784314, 0.        , 0.        ,\n",
       "        0.        , 0.        , 0.        , 0.        , 0.        ,\n",
       "        0.        , 0.        , 0.        ],\n",
       "       [0.        , 0.        , 0.        , 0.        , 0.        ,\n",
       "        0.        , 0.07058824, 0.67058825, 0.85882354, 0.99215686,\n",
       "        0.99215686, 0.99215686, 0.99215686, 0.7647059 , 0.3137255 ,\n",
       "        0.03529412, 0.        , 0.        , 0.        , 0.        ,\n",
       "        0.        , 0.        , 0.        , 0.        , 0.        ,\n",
       "        0.        , 0.        , 0.        ],\n",
       "       [0.        , 0.        , 0.        , 0.        , 0.21568628,\n",
       "        0.6745098 , 0.8862745 , 0.99215686, 0.99215686, 0.99215686,\n",
       "        0.99215686, 0.95686275, 0.52156866, 0.04313726, 0.        ,\n",
       "        0.        , 0.        , 0.        , 0.        , 0.        ,\n",
       "        0.        , 0.        , 0.        , 0.        , 0.        ,\n",
       "        0.        , 0.        , 0.        ],\n",
       "       [0.        , 0.        , 0.        , 0.        , 0.53333336,\n",
       "        0.99215686, 0.99215686, 0.99215686, 0.83137256, 0.5294118 ,\n",
       "        0.5176471 , 0.0627451 , 0.        , 0.        , 0.        ,\n",
       "        0.        , 0.        , 0.        , 0.        , 0.        ,\n",
       "        0.        , 0.        , 0.        , 0.        , 0.        ,\n",
       "        0.        , 0.        , 0.        ],\n",
       "       [0.        , 0.        , 0.        , 0.        , 0.        ,\n",
       "        0.        , 0.        , 0.        , 0.        , 0.        ,\n",
       "        0.        , 0.        , 0.        , 0.        , 0.        ,\n",
       "        0.        , 0.        , 0.        , 0.        , 0.        ,\n",
       "        0.        , 0.        , 0.        , 0.        , 0.        ,\n",
       "        0.        , 0.        , 0.        ],\n",
       "       [0.        , 0.        , 0.        , 0.        , 0.        ,\n",
       "        0.        , 0.        , 0.        , 0.        , 0.        ,\n",
       "        0.        , 0.        , 0.        , 0.        , 0.        ,\n",
       "        0.        , 0.        , 0.        , 0.        , 0.        ,\n",
       "        0.        , 0.        , 0.        , 0.        , 0.        ,\n",
       "        0.        , 0.        , 0.        ],\n",
       "       [0.        , 0.        , 0.        , 0.        , 0.        ,\n",
       "        0.        , 0.        , 0.        , 0.        , 0.        ,\n",
       "        0.        , 0.        , 0.        , 0.        , 0.        ,\n",
       "        0.        , 0.        , 0.        , 0.        , 0.        ,\n",
       "        0.        , 0.        , 0.        , 0.        , 0.        ,\n",
       "        0.        , 0.        , 0.        ]], dtype=float32)"
      ]
     },
     "execution_count": 28,
     "metadata": {},
     "output_type": "execute_result"
    }
   ],
   "source": [
    "# [0,255] --> [0,1]\n",
    "# NN对输入数据幅度敏感,进行数据归一化预处理可以让后续NN模型收敛更快，效果更好\n",
    "X_train = X_train.astype('float32')/255\n",
    "X_test = X_test.astype('float32')/255\n",
    "X_train[0]"
   ]
  },
  {
   "cell_type": "markdown",
   "metadata": {},
   "source": [
    "#### Preprocess-label to one-hot code 标签独热向量编码"
   ]
  },
  {
   "cell_type": "code",
   "execution_count": 32,
   "metadata": {},
   "outputs": [
    {
     "data": {
      "text/plain": [
       "array([5, 0, 4, 1, 9, 2], dtype=uint8)"
      ]
     },
     "execution_count": 32,
     "metadata": {},
     "output_type": "execute_result"
    }
   ],
   "source": [
    "# 训练集标签\n",
    "y_train[:6]\n",
    "\"\"\"\n",
    "原始数据标签为整数形式，但在手写数字分类场景中，数字9没有比1大的含义。\n",
    "应转换标签以防止数字大小关系被考虑进模型中。此处采用独热向量编码。\n",
    "在构造损失函数时，用独热向量编码计算交叉熵损失函数\n",
    "\"\"\""
   ]
  },
  {
   "cell_type": "code",
   "execution_count": 34,
   "metadata": {},
   "outputs": [],
   "source": [
    "from keras.utils import np_utils\n",
    "\n",
    "y_train = np_utils.to_categorical(y_train,10) # 10为维度\n",
    "y_test = np_utils.to_categorical(y_test,10)\n",
    "\n",
    "# https://keras-cn.readthedocs.io/en/latest/utils/"
   ]
  },
  {
   "cell_type": "code",
   "execution_count": 35,
   "metadata": {},
   "outputs": [
    {
     "data": {
      "text/plain": [
       "array([[0., 0., 0., 0., 0., 1., 0., 0., 0., 0.],\n",
       "       [1., 0., 0., 0., 0., 0., 0., 0., 0., 0.],\n",
       "       [0., 0., 0., 0., 1., 0., 0., 0., 0., 0.],\n",
       "       [0., 1., 0., 0., 0., 0., 0., 0., 0., 0.],\n",
       "       [0., 0., 0., 0., 0., 0., 0., 0., 0., 1.],\n",
       "       [0., 0., 1., 0., 0., 0., 0., 0., 0., 0.]], dtype=float32)"
      ]
     },
     "execution_count": 35,
     "metadata": {},
     "output_type": "execute_result"
    }
   ],
   "source": [
    "y_train[:6]"
   ]
  },
  {
   "cell_type": "markdown",
   "metadata": {},
   "source": [
    "### Multilayer Perceptron Neural Networks 构建MLP多层感知机神经网络"
   ]
  },
  {
   "cell_type": "code",
   "execution_count": 38,
   "metadata": {},
   "outputs": [
    {
     "data": {
      "text/plain": [
       "(28, 28)"
      ]
     },
     "execution_count": 38,
     "metadata": {},
     "output_type": "execute_result"
    }
   ],
   "source": [
    "\"\"\"\n",
    "Dense 密集层：即全连接层\n",
    "Droupout 丢弃层：防止过拟合\n",
    "Flatten： 将28*28的图像拉平为784维长向量\n",
    "https://keras.io/zh/layers/core/\n",
    "\"\"\"\n",
    "X_train.shape[1:]"
   ]
  },
  {
   "cell_type": "code",
   "execution_count": 39,
   "metadata": {},
   "outputs": [],
   "source": [
    "from keras.models import Sequential\n",
    "from keras.layers import Dense, Dropout, Flatten\n",
    "\n",
    "model = Sequential()\n",
    "model.add(Flatten(input_shape=(28,28)))\n",
    "\n",
    "# 序贯模型: 多个网络层的线性堆叠\n",
    "\n",
    "#512个神经远的全连接神经网络，激活函数为relu,Droupout率为0.2\n",
    "model.add(Dense(512,activation='relu'))\n",
    "model.add(Dropout(0.2)) # 随机掐死20%神经元\n",
    "\n",
    "#512个神经元的全连接神经网络，激活函数为relu，Dropout率为0.2\n",
    "model.add(Dense(512,activation='relu'))\n",
    "model.add(Dropout(0.2))\n",
    "\n",
    "# 输出层，10个神经元，softmax输出，对应图像为10给数字的概率\n",
    "model.add(Dense(10,activation='softmax'))"
   ]
  },
  {
   "cell_type": "code",
   "execution_count": 40,
   "metadata": {},
   "outputs": [
    {
     "name": "stdout",
     "output_type": "stream",
     "text": [
      "Model: \"sequential_1\"\n",
      "_________________________________________________________________\n",
      "Layer (type)                 Output Shape              Param #   \n",
      "=================================================================\n",
      "flatten_1 (Flatten)          (None, 784)               0         \n",
      "_________________________________________________________________\n",
      "dense_1 (Dense)              (None, 512)               401920    \n",
      "_________________________________________________________________\n",
      "dropout_1 (Dropout)          (None, 512)               0         \n",
      "_________________________________________________________________\n",
      "dense_2 (Dense)              (None, 512)               262656    \n",
      "_________________________________________________________________\n",
      "dropout_2 (Dropout)          (None, 512)               0         \n",
      "_________________________________________________________________\n",
      "dense_3 (Dense)              (None, 10)                5130      \n",
      "=================================================================\n",
      "Total params: 669,706\n",
      "Trainable params: 669,706\n",
      "Non-trainable params: 0\n",
      "_________________________________________________________________\n"
     ]
    }
   ],
   "source": [
    "model.summary()"
   ]
  },
  {
   "cell_type": "code",
   "execution_count": 41,
   "metadata": {},
   "outputs": [],
   "source": [
    "# 打包模型，损失函数为多分类交叉熵损失函数，梯度下降优化器为emsprop，训练过程中输出准确率信息\n",
    "model.compile(loss='categorical_crossentropy',optimizer='rmsprop',metrics=['accuracy'])"
   ]
  },
  {
   "cell_type": "code",
   "execution_count": 42,
   "metadata": {},
   "outputs": [
    {
     "name": "stdout",
     "output_type": "stream",
     "text": [
      "WARNING:tensorflow:From C:\\Users\\admin\\anaconda3\\envs\\k1py37ml\\lib\\site-packages\\keras\\backend\\tensorflow_backend.py:422: The name tf.global_variables is deprecated. Please use tf.compat.v1.global_variables instead.\n",
      "\n",
      "10000/10000 [==============================] - 1s 105us/step\n"
     ]
    },
    {
     "data": {
      "text/plain": [
       "[2.319455266571045, 0.07829999923706055]"
      ]
     },
     "execution_count": 42,
     "metadata": {},
     "output_type": "execute_result"
    }
   ],
   "source": [
    "# 模型训练之前，在测试集上进行评估\n",
    "model.evaluate(X_test,y_test,verbose=1)\n",
    "# 交叉熵很大，准确率很低"
   ]
  },
  {
   "cell_type": "markdown",
   "metadata": {},
   "source": [
    "### Start Training"
   ]
  },
  {
   "cell_type": "code",
   "execution_count": 45,
   "metadata": {},
   "outputs": [
    {
     "name": "stdout",
     "output_type": "stream",
     "text": [
      "Train on 48000 samples, validate on 12000 samples\n",
      "Epoch 1/10\n",
      "48000/48000 [==============================] - 7s 139us/step - loss: 0.2705 - accuracy: 0.9168 - val_loss: 0.1245 - val_accuracy: 0.9620\n",
      "\n",
      "Epoch 00001: val_loss improved from inf to 0.12452, saving model to mnist.model.best.hdf5\n",
      "Epoch 2/10\n",
      "48000/48000 [==============================] - 6s 132us/step - loss: 0.1095 - accuracy: 0.9656 - val_loss: 0.0988 - val_accuracy: 0.9708\n",
      "\n",
      "Epoch 00002: val_loss improved from 0.12452 to 0.09884, saving model to mnist.model.best.hdf5\n",
      "Epoch 3/10\n",
      "48000/48000 [==============================] - 10s 207us/step - loss: 0.0791 - accuracy: 0.9756 - val_loss: 0.0915 - val_accuracy: 0.9775\n",
      "\n",
      "Epoch 00003: val_loss improved from 0.09884 to 0.09153, saving model to mnist.model.best.hdf5\n",
      "Epoch 4/10\n",
      "48000/48000 [==============================] - 12s 253us/step - loss: 0.0605 - accuracy: 0.9820 - val_loss: 0.0895 - val_accuracy: 0.9763\n",
      "\n",
      "Epoch 00004: val_loss improved from 0.09153 to 0.08949, saving model to mnist.model.best.hdf5\n",
      "Epoch 5/10\n",
      "48000/48000 [==============================] - 12s 254us/step - loss: 0.0512 - accuracy: 0.9843 - val_loss: 0.0902 - val_accuracy: 0.9791\n",
      "\n",
      "Epoch 00005: val_loss did not improve from 0.08949\n",
      "Epoch 6/10\n",
      "48000/48000 [==============================] - 12s 258us/step - loss: 0.0440 - accuracy: 0.9862 - val_loss: 0.0948 - val_accuracy: 0.9783\n",
      "\n",
      "Epoch 00006: val_loss did not improve from 0.08949\n",
      "Epoch 7/10\n",
      "48000/48000 [==============================] - 13s 266us/step - loss: 0.0369 - accuracy: 0.9892 - val_loss: 0.1105 - val_accuracy: 0.9781\n",
      "\n",
      "Epoch 00007: val_loss did not improve from 0.08949\n",
      "Epoch 8/10\n",
      "48000/48000 [==============================] - 9s 190us/step - loss: 0.0339 - accuracy: 0.9898 - val_loss: 0.1099 - val_accuracy: 0.9787\n",
      "\n",
      "Epoch 00008: val_loss did not improve from 0.08949\n",
      "Epoch 9/10\n",
      "48000/48000 [==============================] - 9s 180us/step - loss: 0.0277 - accuracy: 0.9916 - val_loss: 0.1272 - val_accuracy: 0.9789\n",
      "\n",
      "Epoch 00009: val_loss did not improve from 0.08949\n",
      "Epoch 10/10\n",
      "48000/48000 [==============================] - 8s 175us/step - loss: 0.0305 - accuracy: 0.9908 - val_loss: 0.1110 - val_accuracy: 0.9795\n",
      "\n",
      "Epoch 00010: val_loss did not improve from 0.08949\n"
     ]
    }
   ],
   "source": [
    "\"\"\"\n",
    "每步传入128个样本，训练10轮，即完整遍历10遍训练集，每轮训练之后在验证集上进行测试。\n",
    "验证集为1/5原始数据。\n",
    "\n",
    "使用ModelCheckpoint及时存储验证集上准确率最高的最优模型，\n",
    "存储为当前目录下的\"mnist.model.best.hdf5\"文件。\n",
    "早停可防止过拟合\n",
    "http://keras.io/callbacks/#modelcheckpoint\n",
    "\"\"\"\n",
    "\n",
    "from keras.callbacks import ModelCheckpoint\n",
    "\n",
    "checkpointer  = ModelCheckpoint(filepath='mnist.model.best.hdf5',verbose=1,\n",
    "                               save_best_only=True)\n",
    "\n",
    "hist  = model.fit(X_train,y_train,batch_size=128,epochs=10,validation_split=0.2,\n",
    "                 callbacks=[checkpointer],verbose=1,shuffle=True)"
   ]
  },
  {
   "cell_type": "markdown",
   "metadata": {},
   "source": [
    "#### Visualize training process info 可视化训练过程的信息"
   ]
  },
  {
   "cell_type": "code",
   "execution_count": 57,
   "metadata": {},
   "outputs": [
    {
     "data": {
      "image/png": "[encoded data removed]",
      "text/plain": [
       "<Figure size 432x288 with 1 Axes>"
      ]
     },
     "metadata": {
      "needs_background": "light"
     },
     "output_type": "display_data"
    },
    {
     "data": {
      "image/png": "[encoded data removed]",
      "text/plain": [
       "<Figure size 432x288 with 1 Axes>"
      ]
     },
     "metadata": {
      "needs_background": "light"
     },
     "output_type": "display_data"
    }
   ],
   "source": [
    "import matplotlib.pyplot as plt\n",
    "%matplotlib inline\n",
    "\n",
    "def plot_history(network_history):\n",
    "    plt.figure()\n",
    "    plt.xlabel('Epoches')\n",
    "    plt.ylabel('Loss')\n",
    "    plt.plot(network_history.history['loss'])\n",
    "    plt.plot(network_history.history['val_loss'])\n",
    "    plt.legend(['Training','Validation'])\n",
    "    \n",
    "    plt.figure()\n",
    "    plt.xlabel('Epoches')\n",
    "    plt.ylabel('Accuracy')\n",
    "    plt.plot(network_history.history['accuracy'])\n",
    "    plt.plot(network_history.history['val_accuracy'])\n",
    "    plt.legend(['Training','Validation'],loc='lower right')\n",
    "    plt.show()\n",
    "    \n",
    "plot_history(hist)"
   ]
  },
  {
   "cell_type": "code",
   "execution_count": 58,
   "metadata": {},
   "outputs": [],
   "source": [
    "# Load best accuracy model\n",
    "model.load_weights(\"mnist.model.best.hdf5\")"
   ]
  },
  {
   "cell_type": "markdown",
   "metadata": {},
   "source": [
    "#### Evaluate Model on testing dataset 在测试集上评估模型"
   ]
  },
  {
   "cell_type": "code",
   "execution_count": 62,
   "metadata": {},
   "outputs": [
    {
     "data": {
      "text/plain": [
       "[0.07616585766882636, 0.9785000085830688]"
      ]
     },
     "execution_count": 62,
     "metadata": {},
     "output_type": "execute_result"
    }
   ],
   "source": [
    "model.evaluate(X_test,y_test,verbose=0)"
   ]
  },
  {
   "cell_type": "markdown",
   "metadata": {},
   "source": [
    "### Make Predictions on some samples 对一些样本进行预测"
   ]
  },
  {
   "cell_type": "code",
   "execution_count": 63,
   "metadata": {},
   "outputs": [],
   "source": [
    "i=77\n",
    "img_test = X_test[i].reshape(-1,28,28) \n",
    "# 由于训练时没批128，预测时传图片也要加入批次\n",
    "# 此处-1 表示每一批一张\n",
    "prediction = model.predict(img_test)[0]"
   ]
  },
  {
   "cell_type": "code",
   "execution_count": 64,
   "metadata": {},
   "outputs": [
    {
     "data": {
      "text/plain": [
       "array([3.5590624e-08, 5.4288612e-05, 9.9993944e-01, 1.0479383e-06,\n",
       "       1.4334575e-10, 4.2658330e-09, 5.6502114e-09, 4.4841913e-06,\n",
       "       6.3248177e-07, 1.0780903e-09], dtype=float32)"
      ]
     },
     "execution_count": 64,
     "metadata": {},
     "output_type": "execute_result"
    }
   ],
   "source": [
    "prediction"
   ]
  },
  {
   "cell_type": "code",
   "execution_count": 65,
   "metadata": {},
   "outputs": [
    {
     "data": {
      "text/plain": [
       "(1, 28, 28)"
      ]
     },
     "execution_count": 65,
     "metadata": {},
     "output_type": "execute_result"
    }
   ],
   "source": [
    "img_test.shape"
   ]
  },
  {
   "cell_type": "code",
   "execution_count": 66,
   "metadata": {},
   "outputs": [
    {
     "data": {
      "text/plain": [
       "array([0., 0., 1., 0., 0., 0., 0., 0., 0., 0.], dtype=float32)"
      ]
     },
     "execution_count": 66,
     "metadata": {},
     "output_type": "execute_result"
    }
   ],
   "source": [
    "y_test[i]"
   ]
  },
  {
   "cell_type": "code",
   "execution_count": 68,
   "metadata": {},
   "outputs": [
    {
     "data": {
      "text/plain": [
       "2"
      ]
     },
     "execution_count": 68,
     "metadata": {},
     "output_type": "execute_result"
    }
   ],
   "source": [
    "import numpy as np\n",
    "np.argmax(prediction)"
   ]
  },
  {
   "cell_type": "code",
   "execution_count": 70,
   "metadata": {},
   "outputs": [
    {
     "data": {
      "image/png": "[encoded data removed]",
      "text/plain": [
       "<Figure size 432x288 with 1 Axes>"
      ]
     },
     "metadata": {
      "needs_background": "light"
     },
     "output_type": "display_data"
    },
    {
     "data": {
      "image/png": "[encoded data removed]",
      "text/plain": [
       "<Figure size 432x288 with 1 Axes>"
      ]
     },
     "metadata": {
      "needs_background": "light"
     },
     "output_type": "display_data"
    }
   ],
   "source": [
    "# 对测试机中索引为i的图像进行分类及结果可视化\n",
    "i=42\n",
    "\n",
    "plt.imshow(X_test[i])\n",
    "img_test = X_test[i].reshape(-1,28,28)\n",
    "prediction = model.predict(img_test)[0]\n",
    "\n",
    "title='Real Label：{}\\nPrediction：{}'.format(np.argmax(y_test[i]),np.argmax(prediction))\n",
    "plt.title(title)\n",
    "plt.show()\n",
    "\n",
    "plt.bar(range(10),prediction)\n",
    "plt.title('预测概率分布')\n",
    "plt.xticks([0,1,2,3,4,5,6,7,8,9])\n",
    "plt.show()"
   ]
  },
  {
   "cell_type": "code",
   "execution_count": null,
   "metadata": {},
   "outputs": [],
   "source": []
  }
 ],
 "metadata": {
  "kernelspec": {
   "display_name": "Python 3",
   "language": "python",
   "name": "python3"
  },
  "language_info": {
   "codemirror_mode": {
    "name": "ipython",
    "version": 3
   },
   "file_extension": ".py",
   "mimetype": "text/x-python",
   "name": "python",
   "nbconvert_exporter": "python",
   "pygments_lexer": "ipython3",
   "version": "3.7.9"
  }
 },
 "nbformat": 4,
 "nbformat_minor": 4
}
