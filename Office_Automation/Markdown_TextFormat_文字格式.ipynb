{
 "cells": [
  {
   "cell_type": "markdown",
   "metadata": {},
   "source": [
    "Tutorial:https://connorlin.github.io/2016/05/06/Markdown%E7%9A%84%E5%B8%B8%E7%94%A8%E8%AF%AD%E6%B3%95(%E4%B8%AA%E4%BA%BA%E6%80%BB%E7%BB%93)/"
   ]
  },
  {
   "cell_type": "markdown",
   "metadata": {},
   "source": [
    "# Title1\n",
    "## Title2\n",
    "### Title3\n",
    "#### Title4\n",
    "##### Title5\n",
    "###### Title6"
   ]
  },
  {
   "cell_type": "markdown",
   "metadata": {},
   "source": [
    "一级标题\n",
    "======\n",
    "\n",
    "二级标题\n",
    "----------"
   ]
  },
  {
   "cell_type": "markdown",
   "metadata": {},
   "source": [
    "*它是斜体*\n",
    "\n",
    "**它是粗体**\n",
    "\n",
    "***它是粗斜体***"
   ]
  },
  {
   "cell_type": "markdown",
   "metadata": {},
   "source": [
    "<u>Hey, I have an underline</u>"
   ]
  },
  {
   "cell_type": "markdown",
   "metadata": {},
   "source": [
    "~~delete~~"
   ]
  },
  {
   "cell_type": "markdown",
   "metadata": {},
   "source": [
    "**<font color = red>红色+加粗</font>**"
   ]
  },
  {
   "cell_type": "markdown",
   "metadata": {},
   "source": [
    "*<font color = blue>蓝色+斜体</font>*"
   ]
  },
  {
   "cell_type": "markdown",
   "metadata": {},
   "source": [
    "_<font color = blue>蓝色+斜体</font>_"
   ]
  },
  {
   "cell_type": "markdown",
   "metadata": {},
   "source": [
    "***<font color=green>绿色+加粗+斜体</font>***"
   ]
  },
  {
   "cell_type": "markdown",
   "metadata": {},
   "source": [
    "_**<font color=green>绿色+加粗+斜体</font>**_"
   ]
  },
  {
   "cell_type": "markdown",
   "metadata": {},
   "source": [
    "___<font color=green>绿色+加粗+斜体</font>___"
   ]
  },
  {
   "cell_type": "markdown",
   "metadata": {},
   "source": [
    "<font color=steel size=5 face=雅黑>5号雅黑</font>"
   ]
  },
  {
   "cell_type": "markdown",
   "metadata": {},
   "source": [
    "<mark>黄色高亮<mark>"
   ]
  },
  {
   "cell_type": "markdown",
   "metadata": {},
   "source": [
    "<mark style=background-color:red>改变高亮颜色</mark> "
   ]
  },
  {
   "cell_type": "markdown",
   "metadata": {},
   "source": [
    "<mark><font color=red size=4 face=雅黑>叠加字体的变化<font><mark>"
   ]
  },
  {
   "cell_type": "markdown",
   "metadata": {},
   "source": [
    "<table><tr><td bgcolor=orange> 背景色是 1 orange</td></tr></table>"
   ]
  },
  {
   "cell_type": "markdown",
   "metadata": {},
   "source": [
    "- Red\n",
    "- Green\n",
    "- Blue\n",
    "\n",
    "\n",
    "* Red\n",
    "* Green\n",
    "* Blue\n",
    "\n",
    "\n",
    "+ Red\n",
    "+ Green\n",
    "+ Blue"
   ]
  },
  {
   "cell_type": "markdown",
   "metadata": {},
   "source": [
    "1. Red\n",
    "2. Green\n",
    "3. Blue"
   ]
  },
  {
   "cell_type": "markdown",
   "metadata": {},
   "source": [
    "> 这是一段引用    //在`>`后面有 1 个空格\n",
    "> \n",
    ">     这是引用的代码块形式    //在`>`后面有 5 个空格\n",
    ">     \n",
    "> 代码例子：\n",
    ">   \n",
    "    protected void onCreate(Bundle savedInstanceState) {\n",
    "        super.onCreate(savedInstanceState);\n",
    "        setContentView(R.layout.activity_main);\n",
    "    }\n",
    "\n",
    "> 一级引用\n",
    "> > 二级引用\n",
    "> > > 三级引用\n",
    "\n",
    "> #### 这是一个四级标题\n",
    "> \n",
    "> 1. 这是第一行列表项\n",
    "> 2. 这是第二行列表项"
   ]
  },
  {
   "cell_type": "markdown",
   "metadata": {},
   "source": [
    "图片：![]()    ![图片文本(可忽略)](https://ss1.bdstatic.com/70cFvXSh_Q1YnxGkpoWK1HF6hhy/it/u=2055793721,1915935668&fm=26&gp=0.jpg)\n",
    "\n",
    "链接：[]()     [链接文本](https://sina.cn/index/feed?from=touch&Ver=10)"
   ]
  },
  {
   "cell_type": "markdown",
   "metadata": {},
   "source": [
    "这是行内式链接：[ConnorLin's Blog](http://connorlin.github.io)。\n",
    "\n",
    "这是参考式链接：[ConnorLin's Blog][url]，其中url为链接标记，可置于文中任意位置。\n",
    "\n",
    "[url]: http://connorlin.github.io/ \"ConnorLin's Blog\"\n",
    "\n",
    "链接标记格式为：[链接标记文本]:  链接地址  链接title(可忽略)\n",
    "\n",
    "这是自动链接：直接使用`<>`括起来<http://connorlin.github.io>\n",
    "\n",
    "这是图片：![][avatar]\n",
    "\n",
    "[avatar]: https://connorlin.github.io/images/avatar.jpg"
   ]
  },
  {
   "cell_type": "markdown",
   "metadata": {},
   "source": [
    "|标题|标题|标题|\n",
    "|:---|:---:|---:|\n",
    "|居左测试文本|居中测试文本|居右测试文本|\n",
    "|居左测试文本1|居中测试文本2|居右测试文本3|\n",
    "|居左测试文本11|居中测试文本22|居右测试文本33|\n",
    "|居左测试文本111|居中测试文本222|居右测试文本333|"
   ]
  },
  {
   "cell_type": "markdown",
   "metadata": {},
   "source": [
    "居左：:----\n",
    "居中：:----:或-----\n",
    "居右：----:"
   ]
  },
  {
   "cell_type": "markdown",
   "metadata": {},
   "source": [
    "***\n",
    "---\n",
    "___\n",
    "\n",
    "* * *"
   ]
  },
  {
   "cell_type": "markdown",
   "metadata": {},
   "source": [
    "这是一个脚注的例子[^1]\n",
    "\n",
    "[^1]: 这里是脚注"
   ]
  },
  {
   "cell_type": "markdown",
   "metadata": {},
   "source": [
    "使用html标签`<br/>`<br/>换行"
   ]
  },
  {
   "cell_type": "markdown",
   "metadata": {},
   "source": [
    "<p align=\"left\">居左文本</p>\n",
    "<p align=\"center\">居中文本</p>\n",
    "<p align=\"right\">居右文本</p>\n"
   ]
  },
  {
   "cell_type": "code",
   "execution_count": null,
   "metadata": {},
   "outputs": [],
   "source": []
  }
 ],
 "metadata": {
  "kernelspec": {
   "display_name": "Python 3",
   "language": "python",
   "name": "python3"
  },
  "language_info": {
   "codemirror_mode": {
    "name": "ipython",
    "version": 3
   },
   "file_extension": ".py",
   "mimetype": "text/x-python",
   "name": "python",
   "nbconvert_exporter": "python",
   "pygments_lexer": "ipython3",
   "version": "3.7.9"
  }
 },
 "nbformat": 4,
 "nbformat_minor": 4
}
