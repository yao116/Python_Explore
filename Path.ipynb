{
 "cells": [
  {
   "cell_type": "markdown",
   "metadata": {},
   "source": [
    "###### Write Path"
   ]
  },
  {
   "cell_type": "code",
   "execution_count": 2,
   "metadata": {},
   "outputs": [
    {
     "data": {
      "text/plain": [
       "'Users\\\\admin\\\\Desktop'"
      ]
     },
     "execution_count": 2,
     "metadata": {},
     "output_type": "execute_result"
    }
   ],
   "source": [
    "import os\n",
    "#Window   C:\\Users\\admin\\Desktop\n",
    "#Mac      C:/Users/admin/Desktop\n",
    "os.path.join('Users','admin','Desktop')"
   ]
  },
  {
   "cell_type": "markdown",
   "metadata": {},
   "source": [
    "###### Get current working directory"
   ]
  },
  {
   "cell_type": "code",
   "execution_count": 8,
   "metadata": {},
   "outputs": [
    {
     "data": {
      "text/plain": [
       "'C:\\\\Users\\\\admin\\\\Desktop\\\\Tech准备\\\\Github\\\\OfficeAutomation'"
      ]
     },
     "execution_count": 8,
     "metadata": {},
     "output_type": "execute_result"
    }
   ],
   "source": [
    "os.getcwd()"
   ]
  },
  {
   "cell_type": "markdown",
   "metadata": {},
   "source": [
    "###### Change working directory"
   ]
  },
  {
   "cell_type": "code",
   "execution_count": 16,
   "metadata": {},
   "outputs": [],
   "source": [
    "os.chdir('C:\\\\Users\\\\admin\\\\Desktop\\\\')\n",
    "# os.chdir('C:/Users/admin/Desktop') # Alternatives"
   ]
  },
  {
   "cell_type": "markdown",
   "metadata": {},
   "source": [
    "###### Relative Path & Absolute Path"
   ]
  },
  {
   "cell_type": "code",
   "execution_count": 31,
   "metadata": {},
   "outputs": [
    {
     "data": {
      "text/plain": [
       "['Users', 'admin', 'Desktop', '2020 Fall', 'A7.pdf']"
      ]
     },
     "execution_count": 31,
     "metadata": {},
     "output_type": "execute_result"
    }
   ],
   "source": [
    "# '.' current folder\n",
    "# '..' parent folder\n",
    "# example: \n",
    "# file 1: C:/Users/admin/Desktop/Folder1/A1.py\n",
    "# file 2: C:/Users/admin/Desktop/Folder1/A1.py\n",
    "# file 1 relative to file2: ../A2.py\n",
    "\n",
    "# return absolute path\n",
    "os.path.abspath('.') \n",
    "os.path.abspath('ReadFile.py') \n",
    "\n",
    "# return relative path\n",
    "os.path.relpath('/Users/admin/Desktop/2020 Fall/A7.pdf','/Users/admin/Desktop/2020 Fall/Q2.docx')\n",
    "os.path.relpath('/Users/admin/Desktop/2020 Fall/A7.pdf','/Users/admin/Desktop/models')\n",
    "\n",
    "# return everything before the last /\n",
    "os.path.basename('/Users/admin/Desktop/2020 Fall/A7.pdf')\n",
    "\n",
    "# return directory name and file name\n",
    "os.path.split('/Users/admin/Desktop/2020 Fall/A7.pdf')\n",
    "\n",
    "# seperate based on /\n",
    "path = 'Users/admin/Desktop/2020 Fall/A7.pdf'\n",
    "path=os.path.normpath(path)\n",
    "path.split(os.sep)"
   ]
  },
  {
   "cell_type": "markdown",
   "metadata": {},
   "source": [
    "###### Create New Folder"
   ]
  },
  {
   "cell_type": "code",
   "execution_count": 36,
   "metadata": {},
   "outputs": [],
   "source": [
    "os.mkdir(\"Tech准备/Case\")"
   ]
  },
  {
   "cell_type": "markdown",
   "metadata": {},
   "source": [
    "###### Check file size and folder content"
   ]
  },
  {
   "cell_type": "code",
   "execution_count": 37,
   "metadata": {},
   "outputs": [
    {
     "data": {
      "text/plain": [
       "58387"
      ]
     },
     "execution_count": 37,
     "metadata": {},
     "output_type": "execute_result"
    }
   ],
   "source": [
    "os.path.getsize('2020 Fall/A7.pdf')"
   ]
  },
  {
   "cell_type": "code",
   "execution_count": 39,
   "metadata": {},
   "outputs": [
    {
     "data": {
      "text/plain": [
       "['206A',\n",
       " '206B',\n",
       " 'A7.pdf',\n",
       " 'ASTR',\n",
       " 'Datax',\n",
       " 'Fly',\n",
       " 'GGWP',\n",
       " 'HW8_JING YAO.pdf',\n",
       " 'Innovation Engineering_ A Practical Guide to Creating Anything New - Ikhlaq Sidhu.pdf',\n",
       " 'Interview_JY.mp4',\n",
       " 'J1',\n",
       " 'pubg 1121',\n",
       " 'Q2.docx',\n",
       " 'Quiz2_Jing Yao.jpg',\n",
       " 'The Cosmos Astronomy in the New Millennium 5th Edition by Jay M. Pasachoff.pdf',\n",
       " 'Twitch']"
      ]
     },
     "execution_count": 39,
     "metadata": {},
     "output_type": "execute_result"
    }
   ],
   "source": [
    "os.listdir('2020 Fall')"
   ]
  },
  {
   "cell_type": "markdown",
   "metadata": {},
   "source": [
    "###### Check if file exists"
   ]
  },
  {
   "cell_type": "code",
   "execution_count": 40,
   "metadata": {},
   "outputs": [
    {
     "data": {
      "text/plain": [
       "False"
      ]
     },
     "execution_count": 40,
     "metadata": {},
     "output_type": "execute_result"
    }
   ],
   "source": [
    "os.path.exists('Lesson1')"
   ]
  },
  {
   "cell_type": "code",
   "execution_count": 41,
   "metadata": {},
   "outputs": [
    {
     "data": {
      "text/plain": [
       "True"
      ]
     },
     "execution_count": 41,
     "metadata": {},
     "output_type": "execute_result"
    }
   ],
   "source": [
    "os.path.isfile('2020 Fall/A7.pdf')"
   ]
  },
  {
   "cell_type": "code",
   "execution_count": 42,
   "metadata": {},
   "outputs": [
    {
     "data": {
      "text/plain": [
       "False"
      ]
     },
     "execution_count": 42,
     "metadata": {},
     "output_type": "execute_result"
    }
   ],
   "source": [
    "os.path.isfile('2020 Fall')"
   ]
  },
  {
   "cell_type": "code",
   "execution_count": 44,
   "metadata": {},
   "outputs": [
    {
     "data": {
      "text/plain": [
       "False"
      ]
     },
     "execution_count": 44,
     "metadata": {},
     "output_type": "execute_result"
    }
   ],
   "source": [
    "os.path.isdir('2020 Fall/A7.pdf')"
   ]
  },
  {
   "cell_type": "code",
   "execution_count": 45,
   "metadata": {},
   "outputs": [
    {
     "data": {
      "text/plain": [
       "True"
      ]
     },
     "execution_count": 45,
     "metadata": {},
     "output_type": "execute_result"
    }
   ],
   "source": [
    "os.path.isdir('2020 Fall')"
   ]
  },
  {
   "cell_type": "markdown",
   "metadata": {},
   "source": [
    "###### Create file if not exist"
   ]
  },
  {
   "cell_type": "code",
   "execution_count": null,
   "metadata": {},
   "outputs": [],
   "source": [
    "# put xlsx file under happy/xlsx folder\n",
    "# so on and so forth\n",
    "import os, shutil\n",
    "\n",
    "def CreateFile():\n",
    "    xlsx_path = os.path.join('happy','xlsx')\n",
    "    pdf_path = os.path.join('happy','pdf')\n",
    "    img_path = os.path.join('happy','img')\n",
    "    doc_path = os.path.join('happy','doc')\n",
    "    txt_path = os.path.join('happy','txt')\n",
    "    if not os.path.exists(xlsx_path):\n",
    "        os.mkdir(xlsx_path)\n",
    "    if not os.path.exists(pdf_path):\n",
    "        os.mkdir(pdf_path)\n",
    "    if not os.path.exists(img_path):\n",
    "        os.mkdir(img_path)\n",
    "    if not os.path.exists(doc_path):\n",
    "        os.mkdir(doc_path)\n",
    "    if not os.path,exists(txt_path):\n",
    "        os.mkdir(txt_path)\n",
    "    for file in os.listdir(\"happy\"):\n",
    "        baseName = os.path.basename(file)\n",
    "        filePath = os.path.join(\"happy\",file)\n",
    "        if os.path.isfile(filePath):\n",
    "            ex = baseName.split('.')[1]\n",
    "            if ex == 'xlsx':\n",
    "                shutil.move(filePath,os.path.join(xlsx_path,baseName))\n",
    "            elif ex == 'jpeg':\n",
    "                shutil.move(filePath,os.path.join(img_path,baseName))\n",
    "            elif ex == 'pdf':\n",
    "                shutil.move(filePath,os.path.join(pdf_path,baseName))\n",
    "            elif ex == 'txt':\n",
    "                shutil.move(filePath,os.path.join(txt_path,baseName))\n",
    "            elif ex == 'doc':\n",
    "                shutil.move(filePath,os.path.join(doc_path,baseName))\n",
    "    \n",
    "    CreateFile()"
   ]
  }
 ],
 "metadata": {
  "kernelspec": {
   "display_name": "Python 3",
   "language": "python",
   "name": "python3"
  },
  "language_info": {
   "codemirror_mode": {
    "name": "ipython",
    "version": 3
   },
   "file_extension": ".py",
   "mimetype": "text/x-python",
   "name": "python",
   "nbconvert_exporter": "python",
   "pygments_lexer": "ipython3",
   "version": "3.7.9"
  }
 },
 "nbformat": 4,
 "nbformat_minor": 4
}
