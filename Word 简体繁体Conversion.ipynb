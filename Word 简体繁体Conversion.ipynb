{
 "cells": [
  {
   "cell_type": "markdown",
   "metadata": {},
   "source": [
    "Source: https://www.youtube.com/watch?v=zaFbOrJxdqE "
   ]
  },
  {
   "cell_type": "code",
   "execution_count": 4,
   "metadata": {},
   "outputs": [
    {
     "name": "stdout",
     "output_type": "stream",
     "text": [
      "Processingnavlog.docx\n",
      "navlog.docxDone!\n",
      "Processing繁体.docx\n",
      "繁体.docxDone!\n"
     ]
    }
   ],
   "source": [
    "# 繁体转简体\n",
    "\n",
    "import zhconv\n",
    "from docx import Document\n",
    "import os\n",
    "def convert(text):\n",
    "    rule = \"zh-hans\"\n",
    "    return zhconv.convert(text,rule)\n",
    "\n",
    "def ProcessDocx(docxName):\n",
    "    print(\"Processing\"+docxName)\n",
    "    obj = Document(docxName)\n",
    "    for p in obj.paragraphs:\n",
    "        p.text = convert(p.text)\n",
    "        \n",
    "    for t in obj.tables:\n",
    "        for r in t.rows:\n",
    "            for c in r.cells:\n",
    "                c.text = convert(c.text)\n",
    "    fileName = docxName.split('.')\n",
    "    newDocxName = fileName[0] + \"简体\" + \".\"+ fileName[1]\n",
    "    obj.save(newDocxName)\n",
    "    print(docxName + \"Done!\")\n",
    "    \n",
    "    \n",
    "if __name__ == \"__main__\":\n",
    "    for file in os.listdir('.'):\n",
    "        if file.split('.')[1] == 'docx':\n",
    "            ProcessDocx(file)\n",
    "    "
   ]
  },
  {
   "cell_type": "code",
   "execution_count": 5,
   "metadata": {},
   "outputs": [
    {
     "name": "stdout",
     "output_type": "stream",
     "text": [
      "Processingnavlog.docx\n",
      "navlog.docxDone!\n"
     ]
    }
   ],
   "source": [
    "# 简体转繁体\n",
    "\n",
    "import zhconv\n",
    "from docx import Document\n",
    "import os\n",
    "def convert(text):\n",
    "    rule = \"zh-hant\"\n",
    "    return zhconv.convert(text,rule)\n",
    "\n",
    "def ProcessDocx(docxName):\n",
    "    print(\"Processing\"+docxName)\n",
    "    obj = Document(docxName)\n",
    "    for p in obj.paragraphs:\n",
    "        p.text = convert(p.text)\n",
    "        \n",
    "    for t in obj.tables:\n",
    "        for r in t.rows:\n",
    "            for c in r.cells:\n",
    "                c.text = convert(c.text)\n",
    "    fileName = docxName.split('.')\n",
    "    newDocxName = fileName[0] + \"繁体\" + \".\"+ fileName[1]\n",
    "    obj.save(newDocxName)\n",
    "    print(docxName + \"Done!\")\n",
    "    \n",
    "    \n",
    "if __name__ == \"__main__\":\n",
    "    for file in os.listdir('.'):\n",
    "        if file.split('.')[1] == 'docx':\n",
    "            ProcessDocx(file)\n",
    "    "
   ]
  },
  {
   "cell_type": "code",
   "execution_count": null,
   "metadata": {},
   "outputs": [],
   "source": []
  }
 ],
 "metadata": {
  "kernelspec": {
   "display_name": "Python 3",
   "language": "python",
   "name": "python3"
  },
  "language_info": {
   "codemirror_mode": {
    "name": "ipython",
    "version": 3
   },
   "file_extension": ".py",
   "mimetype": "text/x-python",
   "name": "python",
   "nbconvert_exporter": "python",
   "pygments_lexer": "ipython3",
   "version": "3.7.9"
  }
 },
 "nbformat": 4,
 "nbformat_minor": 4
}
