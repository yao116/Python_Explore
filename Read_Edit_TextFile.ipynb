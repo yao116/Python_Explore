{
 "cells": [
  {
   "cell_type": "markdown",
   "metadata": {},
   "source": [
    "###### Text"
   ]
  },
  {
   "cell_type": "code",
   "execution_count": null,
   "metadata": {},
   "outputs": [],
   "source": [
    "# Open file\n",
    "filePath=\"happy.txt\"\n",
    "f = open(filePath)\n",
    "\n",
    "# read file\n",
    "content=f.read()\n",
    "print(\"Content:\")\n",
    "print(content)\n",
    "f.close()"
   ]
  },
  {
   "cell_type": "code",
   "execution_count": null,
   "metadata": {},
   "outputs": [],
   "source": [
    "# Read line by line\n",
    "f= open(filePath)\n",
    "rowIndex=1\n",
    "\n",
    "for line in f.readlines():\n",
    "    print(\"Content in the {0}th line:\".format(rowIndex))\n",
    "    print(line)\n",
    "    rowIndex+=1\n",
    "f.close()"
   ]
  },
  {
   "cell_type": "code",
   "execution_count": null,
   "metadata": {},
   "outputs": [],
   "source": [
    "# Set number of lines/words to read\n",
    "f = open(filePath)\n",
    "print(\"Content in the 1st line:\")\n",
    "print(f.readline())\n",
    "\n",
    "print(\"Only read 5 byte:\")\n",
    "print(f.readline(5)) \n",
    "# since the 1st is already read in this case. These 5 bytes start from the 2nd line.\n",
    "\n",
    "f.close()"
   ]
  },
  {
   "cell_type": "code",
   "execution_count": null,
   "metadata": {},
   "outputs": [],
   "source": [
    "# Write File 'w'\n",
    "newFilePath = \"newHappy.txt\" # file will be created if not exist\n",
    "f = open(newHappy.txt,'w')\n",
    "f.write(\"Smile everyday\\n\")\n",
    "f.close()"
   ]
  },
  {
   "cell_type": "code",
   "execution_count": null,
   "metadata": {},
   "outputs": [],
   "source": [
    "# Write File 'a'\n",
    "newFilePath = \"newHappy.txt\"\n",
    "f = open(newHappy.txt,'a')\n",
    "f.write(\"Using this mode, new content will be appended to the end\\n\")\n",
    "f.close()"
   ]
  },
  {
   "cell_type": "code",
   "execution_count": null,
   "metadata": {},
   "outputs": [],
   "source": [
    "# Change Arabic Numerals to Chinese Numbers\n",
    "def convertNumber():\n",
    "    filePath = \"number.txt\"\n",
    "    f=open(filePath,'r')\n",
    "    newlines=[]\n",
    "    for line in f.readlines():\n",
    "        newline=''\n",
    "        for i in range(len(line)):\n",
    "            c=line[i]\n",
    "            if c=='0':\n",
    "                c=='零'\n",
    "            elif c=='1':\n",
    "                c=='一'\n",
    "            elif c=='2':\n",
    "                c=='二'\n",
    "            elif c=='3':\n",
    "                c=='三'\n",
    "            elif c=='4':\n",
    "                c=='四'\n",
    "            elif c=='5':\n",
    "                c=='五'\n",
    "            elif c=='6':\n",
    "                c=='六'\n",
    "            elif c=='7':\n",
    "                c=='七'\n",
    "            elif c=='8':\n",
    "                c=='八'\n",
    "            elif c=='9':\n",
    "                c=='九'\n",
    "            newline += c\n",
    "        newlines.append(newline)\n",
    "    f.close()\n",
    "    f=open(filePath,'w')\n",
    "    f.writelines(newlines)\n",
    "    f.close()\n",
    "\n",
    "    \n",
    "convertNumber()"
   ]
  },
  {
   "cell_type": "code",
   "execution_count": 1,
   "metadata": {},
   "outputs": [],
   "source": [
    "# Save as binary file\n",
    "import shelve\n",
    "\n",
    "shelfFile = shelve.open('Happier')\n",
    "datas = {'username':'EllyUpUp','password':'369369'}\n",
    "shelfFile['userInfo'] = datas\n",
    "shelfFile.close()\n",
    "# windows will save it as 3 files: .bak, .dat, .dir\n",
    "# mac will save it as 1 file: .db"
   ]
  },
  {
   "cell_type": "code",
   "execution_count": null,
   "metadata": {},
   "outputs": [],
   "source": [
    "# Open this file\n",
    "shelfFile = selve.open('Happier')\n",
    "print(list(shelfFile.keys()))\n",
    "print(shelfFile['userInfo'])"
   ]
  }
 ],
 "metadata": {
  "kernelspec": {
   "display_name": "Python 3",
   "language": "python",
   "name": "python3"
  },
  "language_info": {
   "codemirror_mode": {
    "name": "ipython",
    "version": 3
   },
   "file_extension": ".py",
   "mimetype": "text/x-python",
   "name": "python",
   "nbconvert_exporter": "python",
   "pygments_lexer": "ipython3",
   "version": "3.7.9"
  }
 },
 "nbformat": 4,
 "nbformat_minor": 4
}
