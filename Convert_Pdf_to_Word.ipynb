{
 "cells": [
  {
   "cell_type": "code",
   "execution_count": 3,
   "metadata": {},
   "outputs": [],
   "source": [
    "import pdfplumber\n",
    "from docx import Document\n",
    "import os\n",
    "from multiprocessing import Process"
   ]
  },
  {
   "cell_type": "code",
   "execution_count": 9,
   "metadata": {},
   "outputs": [],
   "source": [
    "def convertPDF(file):\n",
    "    with pdfplumber.open(file) as pdf:\n",
    "        print(\"Processing document {0}. {1} pages in total...\".format(file,len(pdf.pages)))\n",
    "        content = ''\n",
    "        baseName = file.split('.')[0]\n",
    "        wordName = baseName + '.docx'\n",
    "        flag = True\n",
    "        if os.path.exists(wordName):\n",
    "            os.remove(wordName)\n",
    "        for i in range(len(pdf.pages)):\n",
    "            print(\"Processing<{0}> page {1} ...\".format(baseName,i))\n",
    "            page = pdf.pages[i]\n",
    "            if page.extract_text() == None:\n",
    "                print(\"{0}is patched images,so it cannot be transformed.\".format(file))\n",
    "                flag = False\n",
    "                break\n",
    "            page_content = '\\n'.join(page.extract_text().split('\\n')[:-1])\n",
    "            content = content + page_content\n",
    "            if os.path.exists(wordName):\n",
    "                doc = Document(wordName)\n",
    "            else:\n",
    "                doc = Document()\n",
    "            doc.add_paragraph(content)\n",
    "            doc.save(wordName)\n",
    "            content = ''\n",
    "            print(\"<{0}> the {}th page is done!\".format(baseName,i))\n",
    "        if flag:\n",
    "            print(\"{}completely processed. Saved as {}!\".format(file,wordName))                \n",
    "            \n",
    "if __name__ == '__main__':\n",
    "    for file in os.listdir('.'):\n",
    "        if os.path.isfile(file) and file.split('.')[1] == 'pdf':\n",
    "            p = Process(target=convertPDF,args=(file,))\n",
    "            p.start()"
   ]
  },
  {
   "cell_type": "code",
   "execution_count": 10,
   "metadata": {},
   "outputs": [
    {
     "name": "stdout",
     "output_type": "stream",
     "text": [
      "Processing document navlog.pdf. 2 pages in total...\n"
     ]
    },
    {
     "ename": "NameError",
     "evalue": "name 'fileName' is not defined",
     "output_type": "error",
     "traceback": [
      "\u001b[1;31m---------------------------------------------------------------------------\u001b[0m",
      "\u001b[1;31mNameError\u001b[0m                                 Traceback (most recent call last)",
      "\u001b[1;32m<ipython-input-10-41950ab017a1>\u001b[0m in \u001b[0;36m<module>\u001b[1;34m\u001b[0m\n\u001b[1;32m----> 1\u001b[1;33m \u001b[0mconvertPDF\u001b[0m\u001b[1;33m(\u001b[0m\u001b[1;34m'navlog.pdf'\u001b[0m\u001b[1;33m)\u001b[0m\u001b[1;33m\u001b[0m\u001b[1;33m\u001b[0m\u001b[0m\n\u001b[0m",
      "\u001b[1;32m<ipython-input-9-e606d6cc4844>\u001b[0m in \u001b[0;36mconvertPDF\u001b[1;34m(file)\u001b[0m\n\u001b[0;32m      3\u001b[0m         \u001b[0mprint\u001b[0m\u001b[1;33m(\u001b[0m\u001b[1;34m\"Processing document {0}. {1} pages in total...\"\u001b[0m\u001b[1;33m.\u001b[0m\u001b[0mformat\u001b[0m\u001b[1;33m(\u001b[0m\u001b[0mfile\u001b[0m\u001b[1;33m,\u001b[0m\u001b[0mlen\u001b[0m\u001b[1;33m(\u001b[0m\u001b[0mpdf\u001b[0m\u001b[1;33m.\u001b[0m\u001b[0mpages\u001b[0m\u001b[1;33m)\u001b[0m\u001b[1;33m)\u001b[0m\u001b[1;33m)\u001b[0m\u001b[1;33m\u001b[0m\u001b[1;33m\u001b[0m\u001b[0m\n\u001b[0;32m      4\u001b[0m         \u001b[0mcontent\u001b[0m \u001b[1;33m=\u001b[0m \u001b[1;34m''\u001b[0m\u001b[1;33m\u001b[0m\u001b[1;33m\u001b[0m\u001b[0m\n\u001b[1;32m----> 5\u001b[1;33m         \u001b[0mbaseName\u001b[0m \u001b[1;33m=\u001b[0m \u001b[0mfileName\u001b[0m\u001b[1;33m.\u001b[0m\u001b[0msplit\u001b[0m\u001b[1;33m(\u001b[0m\u001b[1;34m'.'\u001b[0m\u001b[1;33m)\u001b[0m\u001b[1;33m[\u001b[0m\u001b[1;36m0\u001b[0m\u001b[1;33m]\u001b[0m\u001b[1;33m\u001b[0m\u001b[1;33m\u001b[0m\u001b[0m\n\u001b[0m\u001b[0;32m      6\u001b[0m         \u001b[0mwordName\u001b[0m \u001b[1;33m=\u001b[0m \u001b[0mbaseName\u001b[0m \u001b[1;33m+\u001b[0m \u001b[1;34m'.docx'\u001b[0m\u001b[1;33m\u001b[0m\u001b[1;33m\u001b[0m\u001b[0m\n\u001b[0;32m      7\u001b[0m         \u001b[0mflag\u001b[0m \u001b[1;33m=\u001b[0m \u001b[1;32mTrue\u001b[0m\u001b[1;33m\u001b[0m\u001b[1;33m\u001b[0m\u001b[0m\n",
      "\u001b[1;31mNameError\u001b[0m: name 'fileName' is not defined"
     ]
    }
   ],
   "source": [
    "convertPDF('navlog.pdf')"
   ]
  },
  {
   "cell_type": "code",
   "execution_count": null,
   "metadata": {},
   "outputs": [],
   "source": []
  }
 ],
 "metadata": {
  "kernelspec": {
   "display_name": "Python 3",
   "language": "python",
   "name": "python3"
  },
  "language_info": {
   "codemirror_mode": {
    "name": "ipython",
    "version": 3
   },
   "file_extension": ".py",
   "mimetype": "text/x-python",
   "name": "python",
   "nbconvert_exporter": "python",
   "pygments_lexer": "ipython3",
   "version": "3.7.9"
  }
 },
 "nbformat": 4,
 "nbformat_minor": 4
}
